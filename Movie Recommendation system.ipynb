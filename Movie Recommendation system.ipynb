{
  "nbformat": 4,
  "nbformat_minor": 0,
  "metadata": {
    "colab": {
      "provenance": []
    },
    "kernelspec": {
      "name": "python3",
      "display_name": "Python 3"
    },
    "language_info": {
      "name": "python"
    }
  },
  "cells": [
    {
      "cell_type": "markdown",
      "source": [
        "MAJOR PROJECT : Movie Reccomendation System\n",
        "---\n",
        "------\n",
        "A new era of information has been ushered in by the rapid expansion of data collection. Systems with higher levels of efficiency are being built using data, and recommendation systems play a part in this.  As they enhance the quality of search results and present items that are more pertinent to the search item or related to the user's search history, recommendation systems fall under the category of **information filtering systems**.  \n",
        "\n",
        "There are basically three types of recommender systems:-\n",
        "\n",
        "> *  **Demographic Filtering**- They provide each user with generic recommendations based on the popularity and/or genre of films. Users that share similar demographic characteristics are recommended the same films by the system. Since every user is unique, this method is seen excessively simplistic.\n",
        "\n",
        "> *  **Content Based Filtering**- They suggest similar items based on a particular item. This system uses item metadata, such as genre, director, description, actors, etc. for movies, to make these recommendations. The general idea behind these recommender systems is that if a person liked a particular item, he or she will also like an item that is similar to it.\n",
        "\n",
        "> *  **Collaborative Filtering**- This system matches persons with similar interests and provides recommendations based on this matching. Collaborative filters do not require item metadata like its content-based counterparts."
      ],
      "metadata": {
        "id": "chtDSqB1w239"
      }
    },
    {
      "cell_type": "markdown",
      "source": [
        "In this kernel we'll be building a baseline **movie recommendation system** using [TMDB 5000 Movie Dataset](https://www.kaggle.com/tmdb/tmdb-movie-metadata)."
      ],
      "metadata": {
        "id": "rBfyrT69w7Sm"
      }
    },
    {
      "cell_type": "markdown",
      "source": [
        "Importing the necessary libraries"
      ],
      "metadata": {
        "id": "QtBE6oyjxIx-"
      }
    },
    {
      "cell_type": "code",
      "source": [
        "# Import the libraries\n",
        "import pandas as pd\n",
        "import numpy as np\n",
        "import matplotlib.pyplot as plt\n",
        "from sklearn.feature_extraction.text import TfidfVectorizer\n",
        "from sklearn.metrics.pairwise import linear_kernel\n",
        "from ast import literal_eval\n",
        "from sklearn.feature_extraction.text import CountVectorizer\n",
        "from sklearn.metrics.pairwise import cosine_similarity\n",
        "from surprise import Reader, Dataset, SVD\n",
        "from surprise.model_selection import cross_validate\n"
      ],
      "metadata": {
        "id": "kOUzsJe1xEv6"
      },
      "execution_count": 15,
      "outputs": []
    },
    {
      "cell_type": "markdown",
      "source": [
        "Load the dataset"
      ],
      "metadata": {
        "id": "WejBAw3_yHdw"
      }
    },
    {
      "cell_type": "code",
      "source": [
        "#Load the dataset\n",
        "df1=pd.read_csv('/content/tmdb_5000_credits[1].csv')\n",
        "df2=pd.read_csv('/content/tmdb_5000_movies[1].csv')"
      ],
      "metadata": {
        "id": "Vbna5mZEyF3Z"
      },
      "execution_count": 16,
      "outputs": []
    },
    {
      "cell_type": "code",
      "source": [
        "#Viewing the dataset\n",
        "df1.columns = ['id','tittle','cast','crew']\n",
        "df2= df2.merge(df1,on='id')"
      ],
      "metadata": {
        "id": "srT5q151yGl5"
      },
      "execution_count": 18,
      "outputs": []
    },
    {
      "cell_type": "code",
      "source": [
        "# Display the first few rows of the dataset\n",
        "df1.head()"
      ],
      "metadata": {
        "colab": {
          "base_uri": "https://localhost:8080/",
          "height": 206
        },
        "id": "FT9X80v2y4nE",
        "outputId": "590bdee6-a8a3-432e-ba68-e09b328c19ca"
      },
      "execution_count": 23,
      "outputs": [
        {
          "output_type": "execute_result",
          "data": {
            "text/plain": [
              "       id                                    tittle  \\\n",
              "0   19995                                    Avatar   \n",
              "1     285  Pirates of the Caribbean: At World's End   \n",
              "2  206647                                   Spectre   \n",
              "3   49026                     The Dark Knight Rises   \n",
              "4   49529                               John Carter   \n",
              "\n",
              "                                                cast  \\\n",
              "0  [{\"cast_id\": 242, \"character\": \"Jake Sully\", \"...   \n",
              "1  [{\"cast_id\": 4, \"character\": \"Captain Jack Spa...   \n",
              "2  [{\"cast_id\": 1, \"character\": \"James Bond\", \"cr...   \n",
              "3  [{\"cast_id\": 2, \"character\": \"Bruce Wayne / Ba...   \n",
              "4  [{\"cast_id\": 5, \"character\": \"John Carter\", \"c...   \n",
              "\n",
              "                                                crew  \n",
              "0  [{\"credit_id\": \"52fe48009251416c750aca23\", \"de...  \n",
              "1  [{\"credit_id\": \"52fe4232c3a36847f800b579\", \"de...  \n",
              "2  [{\"credit_id\": \"54805967c3a36829b5002c41\", \"de...  \n",
              "3  [{\"credit_id\": \"52fe4781c3a36847f81398c3\", \"de...  \n",
              "4  [{\"credit_id\": \"52fe479ac3a36847f813eaa3\", \"de...  "
            ],
            "text/html": [
              "\n",
              "  <div id=\"df-d103ad9e-39b2-4e93-8631-04c71901b255\" class=\"colab-df-container\">\n",
              "    <div>\n",
              "<style scoped>\n",
              "    .dataframe tbody tr th:only-of-type {\n",
              "        vertical-align: middle;\n",
              "    }\n",
              "\n",
              "    .dataframe tbody tr th {\n",
              "        vertical-align: top;\n",
              "    }\n",
              "\n",
              "    .dataframe thead th {\n",
              "        text-align: right;\n",
              "    }\n",
              "</style>\n",
              "<table border=\"1\" class=\"dataframe\">\n",
              "  <thead>\n",
              "    <tr style=\"text-align: right;\">\n",
              "      <th></th>\n",
              "      <th>id</th>\n",
              "      <th>tittle</th>\n",
              "      <th>cast</th>\n",
              "      <th>crew</th>\n",
              "    </tr>\n",
              "  </thead>\n",
              "  <tbody>\n",
              "    <tr>\n",
              "      <th>0</th>\n",
              "      <td>19995</td>\n",
              "      <td>Avatar</td>\n",
              "      <td>[{\"cast_id\": 242, \"character\": \"Jake Sully\", \"...</td>\n",
              "      <td>[{\"credit_id\": \"52fe48009251416c750aca23\", \"de...</td>\n",
              "    </tr>\n",
              "    <tr>\n",
              "      <th>1</th>\n",
              "      <td>285</td>\n",
              "      <td>Pirates of the Caribbean: At World's End</td>\n",
              "      <td>[{\"cast_id\": 4, \"character\": \"Captain Jack Spa...</td>\n",
              "      <td>[{\"credit_id\": \"52fe4232c3a36847f800b579\", \"de...</td>\n",
              "    </tr>\n",
              "    <tr>\n",
              "      <th>2</th>\n",
              "      <td>206647</td>\n",
              "      <td>Spectre</td>\n",
              "      <td>[{\"cast_id\": 1, \"character\": \"James Bond\", \"cr...</td>\n",
              "      <td>[{\"credit_id\": \"54805967c3a36829b5002c41\", \"de...</td>\n",
              "    </tr>\n",
              "    <tr>\n",
              "      <th>3</th>\n",
              "      <td>49026</td>\n",
              "      <td>The Dark Knight Rises</td>\n",
              "      <td>[{\"cast_id\": 2, \"character\": \"Bruce Wayne / Ba...</td>\n",
              "      <td>[{\"credit_id\": \"52fe4781c3a36847f81398c3\", \"de...</td>\n",
              "    </tr>\n",
              "    <tr>\n",
              "      <th>4</th>\n",
              "      <td>49529</td>\n",
              "      <td>John Carter</td>\n",
              "      <td>[{\"cast_id\": 5, \"character\": \"John Carter\", \"c...</td>\n",
              "      <td>[{\"credit_id\": \"52fe479ac3a36847f813eaa3\", \"de...</td>\n",
              "    </tr>\n",
              "  </tbody>\n",
              "</table>\n",
              "</div>\n",
              "    <div class=\"colab-df-buttons\">\n",
              "\n",
              "  <div class=\"colab-df-container\">\n",
              "    <button class=\"colab-df-convert\" onclick=\"convertToInteractive('df-d103ad9e-39b2-4e93-8631-04c71901b255')\"\n",
              "            title=\"Convert this dataframe to an interactive table.\"\n",
              "            style=\"display:none;\">\n",
              "\n",
              "  <svg xmlns=\"http://www.w3.org/2000/svg\" height=\"24px\" viewBox=\"0 -960 960 960\">\n",
              "    <path d=\"M120-120v-720h720v720H120Zm60-500h600v-160H180v160Zm220 220h160v-160H400v160Zm0 220h160v-160H400v160ZM180-400h160v-160H180v160Zm440 0h160v-160H620v160ZM180-180h160v-160H180v160Zm440 0h160v-160H620v160Z\"/>\n",
              "  </svg>\n",
              "    </button>\n",
              "\n",
              "  <style>\n",
              "    .colab-df-container {\n",
              "      display:flex;\n",
              "      gap: 12px;\n",
              "    }\n",
              "\n",
              "    .colab-df-convert {\n",
              "      background-color: #E8F0FE;\n",
              "      border: none;\n",
              "      border-radius: 50%;\n",
              "      cursor: pointer;\n",
              "      display: none;\n",
              "      fill: #1967D2;\n",
              "      height: 32px;\n",
              "      padding: 0 0 0 0;\n",
              "      width: 32px;\n",
              "    }\n",
              "\n",
              "    .colab-df-convert:hover {\n",
              "      background-color: #E2EBFA;\n",
              "      box-shadow: 0px 1px 2px rgba(60, 64, 67, 0.3), 0px 1px 3px 1px rgba(60, 64, 67, 0.15);\n",
              "      fill: #174EA6;\n",
              "    }\n",
              "\n",
              "    .colab-df-buttons div {\n",
              "      margin-bottom: 4px;\n",
              "    }\n",
              "\n",
              "    [theme=dark] .colab-df-convert {\n",
              "      background-color: #3B4455;\n",
              "      fill: #D2E3FC;\n",
              "    }\n",
              "\n",
              "    [theme=dark] .colab-df-convert:hover {\n",
              "      background-color: #434B5C;\n",
              "      box-shadow: 0px 1px 3px 1px rgba(0, 0, 0, 0.15);\n",
              "      filter: drop-shadow(0px 1px 2px rgba(0, 0, 0, 0.3));\n",
              "      fill: #FFFFFF;\n",
              "    }\n",
              "  </style>\n",
              "\n",
              "    <script>\n",
              "      const buttonEl =\n",
              "        document.querySelector('#df-d103ad9e-39b2-4e93-8631-04c71901b255 button.colab-df-convert');\n",
              "      buttonEl.style.display =\n",
              "        google.colab.kernel.accessAllowed ? 'block' : 'none';\n",
              "\n",
              "      async function convertToInteractive(key) {\n",
              "        const element = document.querySelector('#df-d103ad9e-39b2-4e93-8631-04c71901b255');\n",
              "        const dataTable =\n",
              "          await google.colab.kernel.invokeFunction('convertToInteractive',\n",
              "                                                    [key], {});\n",
              "        if (!dataTable) return;\n",
              "\n",
              "        const docLinkHtml = 'Like what you see? Visit the ' +\n",
              "          '<a target=\"_blank\" href=https://colab.research.google.com/notebooks/data_table.ipynb>data table notebook</a>'\n",
              "          + ' to learn more about interactive tables.';\n",
              "        element.innerHTML = '';\n",
              "        dataTable['output_type'] = 'display_data';\n",
              "        await google.colab.output.renderOutput(dataTable, element);\n",
              "        const docLink = document.createElement('div');\n",
              "        docLink.innerHTML = docLinkHtml;\n",
              "        element.appendChild(docLink);\n",
              "      }\n",
              "    </script>\n",
              "  </div>\n",
              "\n",
              "\n",
              "<div id=\"df-1eaaa892-7e7a-4849-873d-bd9035f32078\">\n",
              "  <button class=\"colab-df-quickchart\" onclick=\"quickchart('df-1eaaa892-7e7a-4849-873d-bd9035f32078')\"\n",
              "            title=\"Suggest charts\"\n",
              "            style=\"display:none;\">\n",
              "\n",
              "<svg xmlns=\"http://www.w3.org/2000/svg\" height=\"24px\"viewBox=\"0 0 24 24\"\n",
              "     width=\"24px\">\n",
              "    <g>\n",
              "        <path d=\"M19 3H5c-1.1 0-2 .9-2 2v14c0 1.1.9 2 2 2h14c1.1 0 2-.9 2-2V5c0-1.1-.9-2-2-2zM9 17H7v-7h2v7zm4 0h-2V7h2v10zm4 0h-2v-4h2v4z\"/>\n",
              "    </g>\n",
              "</svg>\n",
              "  </button>\n",
              "\n",
              "<style>\n",
              "  .colab-df-quickchart {\n",
              "      --bg-color: #E8F0FE;\n",
              "      --fill-color: #1967D2;\n",
              "      --hover-bg-color: #E2EBFA;\n",
              "      --hover-fill-color: #174EA6;\n",
              "      --disabled-fill-color: #AAA;\n",
              "      --disabled-bg-color: #DDD;\n",
              "  }\n",
              "\n",
              "  [theme=dark] .colab-df-quickchart {\n",
              "      --bg-color: #3B4455;\n",
              "      --fill-color: #D2E3FC;\n",
              "      --hover-bg-color: #434B5C;\n",
              "      --hover-fill-color: #FFFFFF;\n",
              "      --disabled-bg-color: #3B4455;\n",
              "      --disabled-fill-color: #666;\n",
              "  }\n",
              "\n",
              "  .colab-df-quickchart {\n",
              "    background-color: var(--bg-color);\n",
              "    border: none;\n",
              "    border-radius: 50%;\n",
              "    cursor: pointer;\n",
              "    display: none;\n",
              "    fill: var(--fill-color);\n",
              "    height: 32px;\n",
              "    padding: 0;\n",
              "    width: 32px;\n",
              "  }\n",
              "\n",
              "  .colab-df-quickchart:hover {\n",
              "    background-color: var(--hover-bg-color);\n",
              "    box-shadow: 0 1px 2px rgba(60, 64, 67, 0.3), 0 1px 3px 1px rgba(60, 64, 67, 0.15);\n",
              "    fill: var(--button-hover-fill-color);\n",
              "  }\n",
              "\n",
              "  .colab-df-quickchart-complete:disabled,\n",
              "  .colab-df-quickchart-complete:disabled:hover {\n",
              "    background-color: var(--disabled-bg-color);\n",
              "    fill: var(--disabled-fill-color);\n",
              "    box-shadow: none;\n",
              "  }\n",
              "\n",
              "  .colab-df-spinner {\n",
              "    border: 2px solid var(--fill-color);\n",
              "    border-color: transparent;\n",
              "    border-bottom-color: var(--fill-color);\n",
              "    animation:\n",
              "      spin 1s steps(1) infinite;\n",
              "  }\n",
              "\n",
              "  @keyframes spin {\n",
              "    0% {\n",
              "      border-color: transparent;\n",
              "      border-bottom-color: var(--fill-color);\n",
              "      border-left-color: var(--fill-color);\n",
              "    }\n",
              "    20% {\n",
              "      border-color: transparent;\n",
              "      border-left-color: var(--fill-color);\n",
              "      border-top-color: var(--fill-color);\n",
              "    }\n",
              "    30% {\n",
              "      border-color: transparent;\n",
              "      border-left-color: var(--fill-color);\n",
              "      border-top-color: var(--fill-color);\n",
              "      border-right-color: var(--fill-color);\n",
              "    }\n",
              "    40% {\n",
              "      border-color: transparent;\n",
              "      border-right-color: var(--fill-color);\n",
              "      border-top-color: var(--fill-color);\n",
              "    }\n",
              "    60% {\n",
              "      border-color: transparent;\n",
              "      border-right-color: var(--fill-color);\n",
              "    }\n",
              "    80% {\n",
              "      border-color: transparent;\n",
              "      border-right-color: var(--fill-color);\n",
              "      border-bottom-color: var(--fill-color);\n",
              "    }\n",
              "    90% {\n",
              "      border-color: transparent;\n",
              "      border-bottom-color: var(--fill-color);\n",
              "    }\n",
              "  }\n",
              "</style>\n",
              "\n",
              "  <script>\n",
              "    async function quickchart(key) {\n",
              "      const quickchartButtonEl =\n",
              "        document.querySelector('#' + key + ' button');\n",
              "      quickchartButtonEl.disabled = true;  // To prevent multiple clicks.\n",
              "      quickchartButtonEl.classList.add('colab-df-spinner');\n",
              "      try {\n",
              "        const charts = await google.colab.kernel.invokeFunction(\n",
              "            'suggestCharts', [key], {});\n",
              "      } catch (error) {\n",
              "        console.error('Error during call to suggestCharts:', error);\n",
              "      }\n",
              "      quickchartButtonEl.classList.remove('colab-df-spinner');\n",
              "      quickchartButtonEl.classList.add('colab-df-quickchart-complete');\n",
              "    }\n",
              "    (() => {\n",
              "      let quickchartButtonEl =\n",
              "        document.querySelector('#df-1eaaa892-7e7a-4849-873d-bd9035f32078 button');\n",
              "      quickchartButtonEl.style.display =\n",
              "        google.colab.kernel.accessAllowed ? 'block' : 'none';\n",
              "    })();\n",
              "  </script>\n",
              "</div>\n",
              "\n",
              "    </div>\n",
              "  </div>\n"
            ]
          },
          "metadata": {},
          "execution_count": 23
        }
      ]
    },
    {
      "cell_type": "code",
      "source": [
        "df2.head()"
      ],
      "metadata": {
        "colab": {
          "base_uri": "https://localhost:8080/",
          "height": 758
        },
        "id": "d9f6EPhly8g-",
        "outputId": "c2f4e51c-9937-4238-acfc-00a5b7740eb9"
      },
      "execution_count": 24,
      "outputs": [
        {
          "output_type": "execute_result",
          "data": {
            "text/plain": [
              "      budget                                             genres  \\\n",
              "0  237000000  [{\"id\": 28, \"name\": \"Action\"}, {\"id\": 12, \"nam...   \n",
              "1  300000000  [{\"id\": 12, \"name\": \"Adventure\"}, {\"id\": 14, \"...   \n",
              "2  245000000  [{\"id\": 28, \"name\": \"Action\"}, {\"id\": 12, \"nam...   \n",
              "3  250000000  [{\"id\": 28, \"name\": \"Action\"}, {\"id\": 80, \"nam...   \n",
              "4  260000000  [{\"id\": 28, \"name\": \"Action\"}, {\"id\": 12, \"nam...   \n",
              "\n",
              "                                       homepage      id  \\\n",
              "0                   http://www.avatarmovie.com/   19995   \n",
              "1  http://disney.go.com/disneypictures/pirates/     285   \n",
              "2   http://www.sonypictures.com/movies/spectre/  206647   \n",
              "3            http://www.thedarkknightrises.com/   49026   \n",
              "4          http://movies.disney.com/john-carter   49529   \n",
              "\n",
              "                                            keywords original_language  \\\n",
              "0  [{\"id\": 1463, \"name\": \"culture clash\"}, {\"id\":...                en   \n",
              "1  [{\"id\": 270, \"name\": \"ocean\"}, {\"id\": 726, \"na...                en   \n",
              "2  [{\"id\": 470, \"name\": \"spy\"}, {\"id\": 818, \"name...                en   \n",
              "3  [{\"id\": 849, \"name\": \"dc comics\"}, {\"id\": 853,...                en   \n",
              "4  [{\"id\": 818, \"name\": \"based on novel\"}, {\"id\":...                en   \n",
              "\n",
              "                             original_title  \\\n",
              "0                                    Avatar   \n",
              "1  Pirates of the Caribbean: At World's End   \n",
              "2                                   Spectre   \n",
              "3                     The Dark Knight Rises   \n",
              "4                               John Carter   \n",
              "\n",
              "                                            overview  popularity  \\\n",
              "0  In the 22nd century, a paraplegic Marine is di...  150.437577   \n",
              "1  Captain Barbossa, long believed to be dead, ha...  139.082615   \n",
              "2  A cryptic message from Bond’s past sends him o...  107.376788   \n",
              "3  Following the death of District Attorney Harve...  112.312950   \n",
              "4  John Carter is a war-weary, former military ca...   43.926995   \n",
              "\n",
              "                                production_companies  ...  \\\n",
              "0  [{\"name\": \"Ingenious Film Partners\", \"id\": 289...  ...   \n",
              "1  [{\"name\": \"Walt Disney Pictures\", \"id\": 2}, {\"...  ...   \n",
              "2  [{\"name\": \"Columbia Pictures\", \"id\": 5}, {\"nam...  ...   \n",
              "3  [{\"name\": \"Legendary Pictures\", \"id\": 923}, {\"...  ...   \n",
              "4        [{\"name\": \"Walt Disney Pictures\", \"id\": 2}]  ...   \n",
              "\n",
              "                                          tagline  \\\n",
              "0                     Enter the World of Pandora.   \n",
              "1  At the end of the world, the adventure begins.   \n",
              "2                           A Plan No One Escapes   \n",
              "3                                 The Legend Ends   \n",
              "4            Lost in our world, found in another.   \n",
              "\n",
              "                                      title  vote_average  vote_count  \\\n",
              "0                                    Avatar           7.2       11800   \n",
              "1  Pirates of the Caribbean: At World's End           6.9        4500   \n",
              "2                                   Spectre           6.3        4466   \n",
              "3                     The Dark Knight Rises           7.6        9106   \n",
              "4                               John Carter           6.1        2124   \n",
              "\n",
              "                                   tittle_x  \\\n",
              "0                                    Avatar   \n",
              "1  Pirates of the Caribbean: At World's End   \n",
              "2                                   Spectre   \n",
              "3                     The Dark Knight Rises   \n",
              "4                               John Carter   \n",
              "\n",
              "                                              cast_x  \\\n",
              "0  [{\"cast_id\": 242, \"character\": \"Jake Sully\", \"...   \n",
              "1  [{\"cast_id\": 4, \"character\": \"Captain Jack Spa...   \n",
              "2  [{\"cast_id\": 1, \"character\": \"James Bond\", \"cr...   \n",
              "3  [{\"cast_id\": 2, \"character\": \"Bruce Wayne / Ba...   \n",
              "4  [{\"cast_id\": 5, \"character\": \"John Carter\", \"c...   \n",
              "\n",
              "                                              crew_x  \\\n",
              "0  [{\"credit_id\": \"52fe48009251416c750aca23\", \"de...   \n",
              "1  [{\"credit_id\": \"52fe4232c3a36847f800b579\", \"de...   \n",
              "2  [{\"credit_id\": \"54805967c3a36829b5002c41\", \"de...   \n",
              "3  [{\"credit_id\": \"52fe4781c3a36847f81398c3\", \"de...   \n",
              "4  [{\"credit_id\": \"52fe479ac3a36847f813eaa3\", \"de...   \n",
              "\n",
              "                                   tittle_y  \\\n",
              "0                                    Avatar   \n",
              "1  Pirates of the Caribbean: At World's End   \n",
              "2                                   Spectre   \n",
              "3                     The Dark Knight Rises   \n",
              "4                               John Carter   \n",
              "\n",
              "                                              cast_y  \\\n",
              "0  [{\"cast_id\": 242, \"character\": \"Jake Sully\", \"...   \n",
              "1  [{\"cast_id\": 4, \"character\": \"Captain Jack Spa...   \n",
              "2  [{\"cast_id\": 1, \"character\": \"James Bond\", \"cr...   \n",
              "3  [{\"cast_id\": 2, \"character\": \"Bruce Wayne / Ba...   \n",
              "4  [{\"cast_id\": 5, \"character\": \"John Carter\", \"c...   \n",
              "\n",
              "                                              crew_y  \n",
              "0  [{\"credit_id\": \"52fe48009251416c750aca23\", \"de...  \n",
              "1  [{\"credit_id\": \"52fe4232c3a36847f800b579\", \"de...  \n",
              "2  [{\"credit_id\": \"54805967c3a36829b5002c41\", \"de...  \n",
              "3  [{\"credit_id\": \"52fe4781c3a36847f81398c3\", \"de...  \n",
              "4  [{\"credit_id\": \"52fe479ac3a36847f813eaa3\", \"de...  \n",
              "\n",
              "[5 rows x 26 columns]"
            ],
            "text/html": [
              "\n",
              "  <div id=\"df-1c2f2954-cfd1-4ad1-a4c0-893076ca2676\" class=\"colab-df-container\">\n",
              "    <div>\n",
              "<style scoped>\n",
              "    .dataframe tbody tr th:only-of-type {\n",
              "        vertical-align: middle;\n",
              "    }\n",
              "\n",
              "    .dataframe tbody tr th {\n",
              "        vertical-align: top;\n",
              "    }\n",
              "\n",
              "    .dataframe thead th {\n",
              "        text-align: right;\n",
              "    }\n",
              "</style>\n",
              "<table border=\"1\" class=\"dataframe\">\n",
              "  <thead>\n",
              "    <tr style=\"text-align: right;\">\n",
              "      <th></th>\n",
              "      <th>budget</th>\n",
              "      <th>genres</th>\n",
              "      <th>homepage</th>\n",
              "      <th>id</th>\n",
              "      <th>keywords</th>\n",
              "      <th>original_language</th>\n",
              "      <th>original_title</th>\n",
              "      <th>overview</th>\n",
              "      <th>popularity</th>\n",
              "      <th>production_companies</th>\n",
              "      <th>...</th>\n",
              "      <th>tagline</th>\n",
              "      <th>title</th>\n",
              "      <th>vote_average</th>\n",
              "      <th>vote_count</th>\n",
              "      <th>tittle_x</th>\n",
              "      <th>cast_x</th>\n",
              "      <th>crew_x</th>\n",
              "      <th>tittle_y</th>\n",
              "      <th>cast_y</th>\n",
              "      <th>crew_y</th>\n",
              "    </tr>\n",
              "  </thead>\n",
              "  <tbody>\n",
              "    <tr>\n",
              "      <th>0</th>\n",
              "      <td>237000000</td>\n",
              "      <td>[{\"id\": 28, \"name\": \"Action\"}, {\"id\": 12, \"nam...</td>\n",
              "      <td>http://www.avatarmovie.com/</td>\n",
              "      <td>19995</td>\n",
              "      <td>[{\"id\": 1463, \"name\": \"culture clash\"}, {\"id\":...</td>\n",
              "      <td>en</td>\n",
              "      <td>Avatar</td>\n",
              "      <td>In the 22nd century, a paraplegic Marine is di...</td>\n",
              "      <td>150.437577</td>\n",
              "      <td>[{\"name\": \"Ingenious Film Partners\", \"id\": 289...</td>\n",
              "      <td>...</td>\n",
              "      <td>Enter the World of Pandora.</td>\n",
              "      <td>Avatar</td>\n",
              "      <td>7.2</td>\n",
              "      <td>11800</td>\n",
              "      <td>Avatar</td>\n",
              "      <td>[{\"cast_id\": 242, \"character\": \"Jake Sully\", \"...</td>\n",
              "      <td>[{\"credit_id\": \"52fe48009251416c750aca23\", \"de...</td>\n",
              "      <td>Avatar</td>\n",
              "      <td>[{\"cast_id\": 242, \"character\": \"Jake Sully\", \"...</td>\n",
              "      <td>[{\"credit_id\": \"52fe48009251416c750aca23\", \"de...</td>\n",
              "    </tr>\n",
              "    <tr>\n",
              "      <th>1</th>\n",
              "      <td>300000000</td>\n",
              "      <td>[{\"id\": 12, \"name\": \"Adventure\"}, {\"id\": 14, \"...</td>\n",
              "      <td>http://disney.go.com/disneypictures/pirates/</td>\n",
              "      <td>285</td>\n",
              "      <td>[{\"id\": 270, \"name\": \"ocean\"}, {\"id\": 726, \"na...</td>\n",
              "      <td>en</td>\n",
              "      <td>Pirates of the Caribbean: At World's End</td>\n",
              "      <td>Captain Barbossa, long believed to be dead, ha...</td>\n",
              "      <td>139.082615</td>\n",
              "      <td>[{\"name\": \"Walt Disney Pictures\", \"id\": 2}, {\"...</td>\n",
              "      <td>...</td>\n",
              "      <td>At the end of the world, the adventure begins.</td>\n",
              "      <td>Pirates of the Caribbean: At World's End</td>\n",
              "      <td>6.9</td>\n",
              "      <td>4500</td>\n",
              "      <td>Pirates of the Caribbean: At World's End</td>\n",
              "      <td>[{\"cast_id\": 4, \"character\": \"Captain Jack Spa...</td>\n",
              "      <td>[{\"credit_id\": \"52fe4232c3a36847f800b579\", \"de...</td>\n",
              "      <td>Pirates of the Caribbean: At World's End</td>\n",
              "      <td>[{\"cast_id\": 4, \"character\": \"Captain Jack Spa...</td>\n",
              "      <td>[{\"credit_id\": \"52fe4232c3a36847f800b579\", \"de...</td>\n",
              "    </tr>\n",
              "    <tr>\n",
              "      <th>2</th>\n",
              "      <td>245000000</td>\n",
              "      <td>[{\"id\": 28, \"name\": \"Action\"}, {\"id\": 12, \"nam...</td>\n",
              "      <td>http://www.sonypictures.com/movies/spectre/</td>\n",
              "      <td>206647</td>\n",
              "      <td>[{\"id\": 470, \"name\": \"spy\"}, {\"id\": 818, \"name...</td>\n",
              "      <td>en</td>\n",
              "      <td>Spectre</td>\n",
              "      <td>A cryptic message from Bond’s past sends him o...</td>\n",
              "      <td>107.376788</td>\n",
              "      <td>[{\"name\": \"Columbia Pictures\", \"id\": 5}, {\"nam...</td>\n",
              "      <td>...</td>\n",
              "      <td>A Plan No One Escapes</td>\n",
              "      <td>Spectre</td>\n",
              "      <td>6.3</td>\n",
              "      <td>4466</td>\n",
              "      <td>Spectre</td>\n",
              "      <td>[{\"cast_id\": 1, \"character\": \"James Bond\", \"cr...</td>\n",
              "      <td>[{\"credit_id\": \"54805967c3a36829b5002c41\", \"de...</td>\n",
              "      <td>Spectre</td>\n",
              "      <td>[{\"cast_id\": 1, \"character\": \"James Bond\", \"cr...</td>\n",
              "      <td>[{\"credit_id\": \"54805967c3a36829b5002c41\", \"de...</td>\n",
              "    </tr>\n",
              "    <tr>\n",
              "      <th>3</th>\n",
              "      <td>250000000</td>\n",
              "      <td>[{\"id\": 28, \"name\": \"Action\"}, {\"id\": 80, \"nam...</td>\n",
              "      <td>http://www.thedarkknightrises.com/</td>\n",
              "      <td>49026</td>\n",
              "      <td>[{\"id\": 849, \"name\": \"dc comics\"}, {\"id\": 853,...</td>\n",
              "      <td>en</td>\n",
              "      <td>The Dark Knight Rises</td>\n",
              "      <td>Following the death of District Attorney Harve...</td>\n",
              "      <td>112.312950</td>\n",
              "      <td>[{\"name\": \"Legendary Pictures\", \"id\": 923}, {\"...</td>\n",
              "      <td>...</td>\n",
              "      <td>The Legend Ends</td>\n",
              "      <td>The Dark Knight Rises</td>\n",
              "      <td>7.6</td>\n",
              "      <td>9106</td>\n",
              "      <td>The Dark Knight Rises</td>\n",
              "      <td>[{\"cast_id\": 2, \"character\": \"Bruce Wayne / Ba...</td>\n",
              "      <td>[{\"credit_id\": \"52fe4781c3a36847f81398c3\", \"de...</td>\n",
              "      <td>The Dark Knight Rises</td>\n",
              "      <td>[{\"cast_id\": 2, \"character\": \"Bruce Wayne / Ba...</td>\n",
              "      <td>[{\"credit_id\": \"52fe4781c3a36847f81398c3\", \"de...</td>\n",
              "    </tr>\n",
              "    <tr>\n",
              "      <th>4</th>\n",
              "      <td>260000000</td>\n",
              "      <td>[{\"id\": 28, \"name\": \"Action\"}, {\"id\": 12, \"nam...</td>\n",
              "      <td>http://movies.disney.com/john-carter</td>\n",
              "      <td>49529</td>\n",
              "      <td>[{\"id\": 818, \"name\": \"based on novel\"}, {\"id\":...</td>\n",
              "      <td>en</td>\n",
              "      <td>John Carter</td>\n",
              "      <td>John Carter is a war-weary, former military ca...</td>\n",
              "      <td>43.926995</td>\n",
              "      <td>[{\"name\": \"Walt Disney Pictures\", \"id\": 2}]</td>\n",
              "      <td>...</td>\n",
              "      <td>Lost in our world, found in another.</td>\n",
              "      <td>John Carter</td>\n",
              "      <td>6.1</td>\n",
              "      <td>2124</td>\n",
              "      <td>John Carter</td>\n",
              "      <td>[{\"cast_id\": 5, \"character\": \"John Carter\", \"c...</td>\n",
              "      <td>[{\"credit_id\": \"52fe479ac3a36847f813eaa3\", \"de...</td>\n",
              "      <td>John Carter</td>\n",
              "      <td>[{\"cast_id\": 5, \"character\": \"John Carter\", \"c...</td>\n",
              "      <td>[{\"credit_id\": \"52fe479ac3a36847f813eaa3\", \"de...</td>\n",
              "    </tr>\n",
              "  </tbody>\n",
              "</table>\n",
              "<p>5 rows × 26 columns</p>\n",
              "</div>\n",
              "    <div class=\"colab-df-buttons\">\n",
              "\n",
              "  <div class=\"colab-df-container\">\n",
              "    <button class=\"colab-df-convert\" onclick=\"convertToInteractive('df-1c2f2954-cfd1-4ad1-a4c0-893076ca2676')\"\n",
              "            title=\"Convert this dataframe to an interactive table.\"\n",
              "            style=\"display:none;\">\n",
              "\n",
              "  <svg xmlns=\"http://www.w3.org/2000/svg\" height=\"24px\" viewBox=\"0 -960 960 960\">\n",
              "    <path d=\"M120-120v-720h720v720H120Zm60-500h600v-160H180v160Zm220 220h160v-160H400v160Zm0 220h160v-160H400v160ZM180-400h160v-160H180v160Zm440 0h160v-160H620v160ZM180-180h160v-160H180v160Zm440 0h160v-160H620v160Z\"/>\n",
              "  </svg>\n",
              "    </button>\n",
              "\n",
              "  <style>\n",
              "    .colab-df-container {\n",
              "      display:flex;\n",
              "      gap: 12px;\n",
              "    }\n",
              "\n",
              "    .colab-df-convert {\n",
              "      background-color: #E8F0FE;\n",
              "      border: none;\n",
              "      border-radius: 50%;\n",
              "      cursor: pointer;\n",
              "      display: none;\n",
              "      fill: #1967D2;\n",
              "      height: 32px;\n",
              "      padding: 0 0 0 0;\n",
              "      width: 32px;\n",
              "    }\n",
              "\n",
              "    .colab-df-convert:hover {\n",
              "      background-color: #E2EBFA;\n",
              "      box-shadow: 0px 1px 2px rgba(60, 64, 67, 0.3), 0px 1px 3px 1px rgba(60, 64, 67, 0.15);\n",
              "      fill: #174EA6;\n",
              "    }\n",
              "\n",
              "    .colab-df-buttons div {\n",
              "      margin-bottom: 4px;\n",
              "    }\n",
              "\n",
              "    [theme=dark] .colab-df-convert {\n",
              "      background-color: #3B4455;\n",
              "      fill: #D2E3FC;\n",
              "    }\n",
              "\n",
              "    [theme=dark] .colab-df-convert:hover {\n",
              "      background-color: #434B5C;\n",
              "      box-shadow: 0px 1px 3px 1px rgba(0, 0, 0, 0.15);\n",
              "      filter: drop-shadow(0px 1px 2px rgba(0, 0, 0, 0.3));\n",
              "      fill: #FFFFFF;\n",
              "    }\n",
              "  </style>\n",
              "\n",
              "    <script>\n",
              "      const buttonEl =\n",
              "        document.querySelector('#df-1c2f2954-cfd1-4ad1-a4c0-893076ca2676 button.colab-df-convert');\n",
              "      buttonEl.style.display =\n",
              "        google.colab.kernel.accessAllowed ? 'block' : 'none';\n",
              "\n",
              "      async function convertToInteractive(key) {\n",
              "        const element = document.querySelector('#df-1c2f2954-cfd1-4ad1-a4c0-893076ca2676');\n",
              "        const dataTable =\n",
              "          await google.colab.kernel.invokeFunction('convertToInteractive',\n",
              "                                                    [key], {});\n",
              "        if (!dataTable) return;\n",
              "\n",
              "        const docLinkHtml = 'Like what you see? Visit the ' +\n",
              "          '<a target=\"_blank\" href=https://colab.research.google.com/notebooks/data_table.ipynb>data table notebook</a>'\n",
              "          + ' to learn more about interactive tables.';\n",
              "        element.innerHTML = '';\n",
              "        dataTable['output_type'] = 'display_data';\n",
              "        await google.colab.output.renderOutput(dataTable, element);\n",
              "        const docLink = document.createElement('div');\n",
              "        docLink.innerHTML = docLinkHtml;\n",
              "        element.appendChild(docLink);\n",
              "      }\n",
              "    </script>\n",
              "  </div>\n",
              "\n",
              "\n",
              "<div id=\"df-375656c4-d9a2-4626-a5c4-b7da175407fa\">\n",
              "  <button class=\"colab-df-quickchart\" onclick=\"quickchart('df-375656c4-d9a2-4626-a5c4-b7da175407fa')\"\n",
              "            title=\"Suggest charts\"\n",
              "            style=\"display:none;\">\n",
              "\n",
              "<svg xmlns=\"http://www.w3.org/2000/svg\" height=\"24px\"viewBox=\"0 0 24 24\"\n",
              "     width=\"24px\">\n",
              "    <g>\n",
              "        <path d=\"M19 3H5c-1.1 0-2 .9-2 2v14c0 1.1.9 2 2 2h14c1.1 0 2-.9 2-2V5c0-1.1-.9-2-2-2zM9 17H7v-7h2v7zm4 0h-2V7h2v10zm4 0h-2v-4h2v4z\"/>\n",
              "    </g>\n",
              "</svg>\n",
              "  </button>\n",
              "\n",
              "<style>\n",
              "  .colab-df-quickchart {\n",
              "      --bg-color: #E8F0FE;\n",
              "      --fill-color: #1967D2;\n",
              "      --hover-bg-color: #E2EBFA;\n",
              "      --hover-fill-color: #174EA6;\n",
              "      --disabled-fill-color: #AAA;\n",
              "      --disabled-bg-color: #DDD;\n",
              "  }\n",
              "\n",
              "  [theme=dark] .colab-df-quickchart {\n",
              "      --bg-color: #3B4455;\n",
              "      --fill-color: #D2E3FC;\n",
              "      --hover-bg-color: #434B5C;\n",
              "      --hover-fill-color: #FFFFFF;\n",
              "      --disabled-bg-color: #3B4455;\n",
              "      --disabled-fill-color: #666;\n",
              "  }\n",
              "\n",
              "  .colab-df-quickchart {\n",
              "    background-color: var(--bg-color);\n",
              "    border: none;\n",
              "    border-radius: 50%;\n",
              "    cursor: pointer;\n",
              "    display: none;\n",
              "    fill: var(--fill-color);\n",
              "    height: 32px;\n",
              "    padding: 0;\n",
              "    width: 32px;\n",
              "  }\n",
              "\n",
              "  .colab-df-quickchart:hover {\n",
              "    background-color: var(--hover-bg-color);\n",
              "    box-shadow: 0 1px 2px rgba(60, 64, 67, 0.3), 0 1px 3px 1px rgba(60, 64, 67, 0.15);\n",
              "    fill: var(--button-hover-fill-color);\n",
              "  }\n",
              "\n",
              "  .colab-df-quickchart-complete:disabled,\n",
              "  .colab-df-quickchart-complete:disabled:hover {\n",
              "    background-color: var(--disabled-bg-color);\n",
              "    fill: var(--disabled-fill-color);\n",
              "    box-shadow: none;\n",
              "  }\n",
              "\n",
              "  .colab-df-spinner {\n",
              "    border: 2px solid var(--fill-color);\n",
              "    border-color: transparent;\n",
              "    border-bottom-color: var(--fill-color);\n",
              "    animation:\n",
              "      spin 1s steps(1) infinite;\n",
              "  }\n",
              "\n",
              "  @keyframes spin {\n",
              "    0% {\n",
              "      border-color: transparent;\n",
              "      border-bottom-color: var(--fill-color);\n",
              "      border-left-color: var(--fill-color);\n",
              "    }\n",
              "    20% {\n",
              "      border-color: transparent;\n",
              "      border-left-color: var(--fill-color);\n",
              "      border-top-color: var(--fill-color);\n",
              "    }\n",
              "    30% {\n",
              "      border-color: transparent;\n",
              "      border-left-color: var(--fill-color);\n",
              "      border-top-color: var(--fill-color);\n",
              "      border-right-color: var(--fill-color);\n",
              "    }\n",
              "    40% {\n",
              "      border-color: transparent;\n",
              "      border-right-color: var(--fill-color);\n",
              "      border-top-color: var(--fill-color);\n",
              "    }\n",
              "    60% {\n",
              "      border-color: transparent;\n",
              "      border-right-color: var(--fill-color);\n",
              "    }\n",
              "    80% {\n",
              "      border-color: transparent;\n",
              "      border-right-color: var(--fill-color);\n",
              "      border-bottom-color: var(--fill-color);\n",
              "    }\n",
              "    90% {\n",
              "      border-color: transparent;\n",
              "      border-bottom-color: var(--fill-color);\n",
              "    }\n",
              "  }\n",
              "</style>\n",
              "\n",
              "  <script>\n",
              "    async function quickchart(key) {\n",
              "      const quickchartButtonEl =\n",
              "        document.querySelector('#' + key + ' button');\n",
              "      quickchartButtonEl.disabled = true;  // To prevent multiple clicks.\n",
              "      quickchartButtonEl.classList.add('colab-df-spinner');\n",
              "      try {\n",
              "        const charts = await google.colab.kernel.invokeFunction(\n",
              "            'suggestCharts', [key], {});\n",
              "      } catch (error) {\n",
              "        console.error('Error during call to suggestCharts:', error);\n",
              "      }\n",
              "      quickchartButtonEl.classList.remove('colab-df-spinner');\n",
              "      quickchartButtonEl.classList.add('colab-df-quickchart-complete');\n",
              "    }\n",
              "    (() => {\n",
              "      let quickchartButtonEl =\n",
              "        document.querySelector('#df-375656c4-d9a2-4626-a5c4-b7da175407fa button');\n",
              "      quickchartButtonEl.style.display =\n",
              "        google.colab.kernel.accessAllowed ? 'block' : 'none';\n",
              "    })();\n",
              "  </script>\n",
              "</div>\n",
              "\n",
              "    </div>\n",
              "  </div>\n"
            ]
          },
          "metadata": {},
          "execution_count": 24
        }
      ]
    },
    {
      "cell_type": "code",
      "source": [
        "# Display the shape of the dataset\n",
        "df1.shape"
      ],
      "metadata": {
        "colab": {
          "base_uri": "https://localhost:8080/"
        },
        "id": "ElAw_c22yGpE",
        "outputId": "9f3cc372-6608-49a7-8761-1e8e0150a2ea"
      },
      "execution_count": 22,
      "outputs": [
        {
          "output_type": "execute_result",
          "data": {
            "text/plain": [
              "(4803, 4)"
            ]
          },
          "metadata": {},
          "execution_count": 22
        }
      ]
    },
    {
      "cell_type": "code",
      "source": [
        "df2.shape"
      ],
      "metadata": {
        "colab": {
          "base_uri": "https://localhost:8080/"
        },
        "id": "TbbS54nYzO67",
        "outputId": "111eaae3-9283-4a6c-bdda-ef43e756db91"
      },
      "execution_count": 25,
      "outputs": [
        {
          "output_type": "execute_result",
          "data": {
            "text/plain": [
              "(4803, 26)"
            ]
          },
          "metadata": {},
          "execution_count": 25
        }
      ]
    },
    {
      "cell_type": "code",
      "source": [
        "# Display descriptive statistics of the DataFrame\n",
        "df1.describe()"
      ],
      "metadata": {
        "colab": {
          "base_uri": "https://localhost:8080/",
          "height": 300
        },
        "id": "9yUw8Wn9zRhn",
        "outputId": "e24f7137-0f4f-404a-cf8a-9a34498e2dd1"
      },
      "execution_count": 28,
      "outputs": [
        {
          "output_type": "execute_result",
          "data": {
            "text/plain": [
              "                  id\n",
              "count    4803.000000\n",
              "mean    57165.484281\n",
              "std     88694.614033\n",
              "min         5.000000\n",
              "25%      9014.500000\n",
              "50%     14629.000000\n",
              "75%     58610.500000\n",
              "max    459488.000000"
            ],
            "text/html": [
              "\n",
              "  <div id=\"df-d3922187-32f5-426d-b1df-975050711cca\" class=\"colab-df-container\">\n",
              "    <div>\n",
              "<style scoped>\n",
              "    .dataframe tbody tr th:only-of-type {\n",
              "        vertical-align: middle;\n",
              "    }\n",
              "\n",
              "    .dataframe tbody tr th {\n",
              "        vertical-align: top;\n",
              "    }\n",
              "\n",
              "    .dataframe thead th {\n",
              "        text-align: right;\n",
              "    }\n",
              "</style>\n",
              "<table border=\"1\" class=\"dataframe\">\n",
              "  <thead>\n",
              "    <tr style=\"text-align: right;\">\n",
              "      <th></th>\n",
              "      <th>id</th>\n",
              "    </tr>\n",
              "  </thead>\n",
              "  <tbody>\n",
              "    <tr>\n",
              "      <th>count</th>\n",
              "      <td>4803.000000</td>\n",
              "    </tr>\n",
              "    <tr>\n",
              "      <th>mean</th>\n",
              "      <td>57165.484281</td>\n",
              "    </tr>\n",
              "    <tr>\n",
              "      <th>std</th>\n",
              "      <td>88694.614033</td>\n",
              "    </tr>\n",
              "    <tr>\n",
              "      <th>min</th>\n",
              "      <td>5.000000</td>\n",
              "    </tr>\n",
              "    <tr>\n",
              "      <th>25%</th>\n",
              "      <td>9014.500000</td>\n",
              "    </tr>\n",
              "    <tr>\n",
              "      <th>50%</th>\n",
              "      <td>14629.000000</td>\n",
              "    </tr>\n",
              "    <tr>\n",
              "      <th>75%</th>\n",
              "      <td>58610.500000</td>\n",
              "    </tr>\n",
              "    <tr>\n",
              "      <th>max</th>\n",
              "      <td>459488.000000</td>\n",
              "    </tr>\n",
              "  </tbody>\n",
              "</table>\n",
              "</div>\n",
              "    <div class=\"colab-df-buttons\">\n",
              "\n",
              "  <div class=\"colab-df-container\">\n",
              "    <button class=\"colab-df-convert\" onclick=\"convertToInteractive('df-d3922187-32f5-426d-b1df-975050711cca')\"\n",
              "            title=\"Convert this dataframe to an interactive table.\"\n",
              "            style=\"display:none;\">\n",
              "\n",
              "  <svg xmlns=\"http://www.w3.org/2000/svg\" height=\"24px\" viewBox=\"0 -960 960 960\">\n",
              "    <path d=\"M120-120v-720h720v720H120Zm60-500h600v-160H180v160Zm220 220h160v-160H400v160Zm0 220h160v-160H400v160ZM180-400h160v-160H180v160Zm440 0h160v-160H620v160ZM180-180h160v-160H180v160Zm440 0h160v-160H620v160Z\"/>\n",
              "  </svg>\n",
              "    </button>\n",
              "\n",
              "  <style>\n",
              "    .colab-df-container {\n",
              "      display:flex;\n",
              "      gap: 12px;\n",
              "    }\n",
              "\n",
              "    .colab-df-convert {\n",
              "      background-color: #E8F0FE;\n",
              "      border: none;\n",
              "      border-radius: 50%;\n",
              "      cursor: pointer;\n",
              "      display: none;\n",
              "      fill: #1967D2;\n",
              "      height: 32px;\n",
              "      padding: 0 0 0 0;\n",
              "      width: 32px;\n",
              "    }\n",
              "\n",
              "    .colab-df-convert:hover {\n",
              "      background-color: #E2EBFA;\n",
              "      box-shadow: 0px 1px 2px rgba(60, 64, 67, 0.3), 0px 1px 3px 1px rgba(60, 64, 67, 0.15);\n",
              "      fill: #174EA6;\n",
              "    }\n",
              "\n",
              "    .colab-df-buttons div {\n",
              "      margin-bottom: 4px;\n",
              "    }\n",
              "\n",
              "    [theme=dark] .colab-df-convert {\n",
              "      background-color: #3B4455;\n",
              "      fill: #D2E3FC;\n",
              "    }\n",
              "\n",
              "    [theme=dark] .colab-df-convert:hover {\n",
              "      background-color: #434B5C;\n",
              "      box-shadow: 0px 1px 3px 1px rgba(0, 0, 0, 0.15);\n",
              "      filter: drop-shadow(0px 1px 2px rgba(0, 0, 0, 0.3));\n",
              "      fill: #FFFFFF;\n",
              "    }\n",
              "  </style>\n",
              "\n",
              "    <script>\n",
              "      const buttonEl =\n",
              "        document.querySelector('#df-d3922187-32f5-426d-b1df-975050711cca button.colab-df-convert');\n",
              "      buttonEl.style.display =\n",
              "        google.colab.kernel.accessAllowed ? 'block' : 'none';\n",
              "\n",
              "      async function convertToInteractive(key) {\n",
              "        const element = document.querySelector('#df-d3922187-32f5-426d-b1df-975050711cca');\n",
              "        const dataTable =\n",
              "          await google.colab.kernel.invokeFunction('convertToInteractive',\n",
              "                                                    [key], {});\n",
              "        if (!dataTable) return;\n",
              "\n",
              "        const docLinkHtml = 'Like what you see? Visit the ' +\n",
              "          '<a target=\"_blank\" href=https://colab.research.google.com/notebooks/data_table.ipynb>data table notebook</a>'\n",
              "          + ' to learn more about interactive tables.';\n",
              "        element.innerHTML = '';\n",
              "        dataTable['output_type'] = 'display_data';\n",
              "        await google.colab.output.renderOutput(dataTable, element);\n",
              "        const docLink = document.createElement('div');\n",
              "        docLink.innerHTML = docLinkHtml;\n",
              "        element.appendChild(docLink);\n",
              "      }\n",
              "    </script>\n",
              "  </div>\n",
              "\n",
              "\n",
              "<div id=\"df-5680245e-c94d-4f54-95f6-69eadfc4a70c\">\n",
              "  <button class=\"colab-df-quickchart\" onclick=\"quickchart('df-5680245e-c94d-4f54-95f6-69eadfc4a70c')\"\n",
              "            title=\"Suggest charts\"\n",
              "            style=\"display:none;\">\n",
              "\n",
              "<svg xmlns=\"http://www.w3.org/2000/svg\" height=\"24px\"viewBox=\"0 0 24 24\"\n",
              "     width=\"24px\">\n",
              "    <g>\n",
              "        <path d=\"M19 3H5c-1.1 0-2 .9-2 2v14c0 1.1.9 2 2 2h14c1.1 0 2-.9 2-2V5c0-1.1-.9-2-2-2zM9 17H7v-7h2v7zm4 0h-2V7h2v10zm4 0h-2v-4h2v4z\"/>\n",
              "    </g>\n",
              "</svg>\n",
              "  </button>\n",
              "\n",
              "<style>\n",
              "  .colab-df-quickchart {\n",
              "      --bg-color: #E8F0FE;\n",
              "      --fill-color: #1967D2;\n",
              "      --hover-bg-color: #E2EBFA;\n",
              "      --hover-fill-color: #174EA6;\n",
              "      --disabled-fill-color: #AAA;\n",
              "      --disabled-bg-color: #DDD;\n",
              "  }\n",
              "\n",
              "  [theme=dark] .colab-df-quickchart {\n",
              "      --bg-color: #3B4455;\n",
              "      --fill-color: #D2E3FC;\n",
              "      --hover-bg-color: #434B5C;\n",
              "      --hover-fill-color: #FFFFFF;\n",
              "      --disabled-bg-color: #3B4455;\n",
              "      --disabled-fill-color: #666;\n",
              "  }\n",
              "\n",
              "  .colab-df-quickchart {\n",
              "    background-color: var(--bg-color);\n",
              "    border: none;\n",
              "    border-radius: 50%;\n",
              "    cursor: pointer;\n",
              "    display: none;\n",
              "    fill: var(--fill-color);\n",
              "    height: 32px;\n",
              "    padding: 0;\n",
              "    width: 32px;\n",
              "  }\n",
              "\n",
              "  .colab-df-quickchart:hover {\n",
              "    background-color: var(--hover-bg-color);\n",
              "    box-shadow: 0 1px 2px rgba(60, 64, 67, 0.3), 0 1px 3px 1px rgba(60, 64, 67, 0.15);\n",
              "    fill: var(--button-hover-fill-color);\n",
              "  }\n",
              "\n",
              "  .colab-df-quickchart-complete:disabled,\n",
              "  .colab-df-quickchart-complete:disabled:hover {\n",
              "    background-color: var(--disabled-bg-color);\n",
              "    fill: var(--disabled-fill-color);\n",
              "    box-shadow: none;\n",
              "  }\n",
              "\n",
              "  .colab-df-spinner {\n",
              "    border: 2px solid var(--fill-color);\n",
              "    border-color: transparent;\n",
              "    border-bottom-color: var(--fill-color);\n",
              "    animation:\n",
              "      spin 1s steps(1) infinite;\n",
              "  }\n",
              "\n",
              "  @keyframes spin {\n",
              "    0% {\n",
              "      border-color: transparent;\n",
              "      border-bottom-color: var(--fill-color);\n",
              "      border-left-color: var(--fill-color);\n",
              "    }\n",
              "    20% {\n",
              "      border-color: transparent;\n",
              "      border-left-color: var(--fill-color);\n",
              "      border-top-color: var(--fill-color);\n",
              "    }\n",
              "    30% {\n",
              "      border-color: transparent;\n",
              "      border-left-color: var(--fill-color);\n",
              "      border-top-color: var(--fill-color);\n",
              "      border-right-color: var(--fill-color);\n",
              "    }\n",
              "    40% {\n",
              "      border-color: transparent;\n",
              "      border-right-color: var(--fill-color);\n",
              "      border-top-color: var(--fill-color);\n",
              "    }\n",
              "    60% {\n",
              "      border-color: transparent;\n",
              "      border-right-color: var(--fill-color);\n",
              "    }\n",
              "    80% {\n",
              "      border-color: transparent;\n",
              "      border-right-color: var(--fill-color);\n",
              "      border-bottom-color: var(--fill-color);\n",
              "    }\n",
              "    90% {\n",
              "      border-color: transparent;\n",
              "      border-bottom-color: var(--fill-color);\n",
              "    }\n",
              "  }\n",
              "</style>\n",
              "\n",
              "  <script>\n",
              "    async function quickchart(key) {\n",
              "      const quickchartButtonEl =\n",
              "        document.querySelector('#' + key + ' button');\n",
              "      quickchartButtonEl.disabled = true;  // To prevent multiple clicks.\n",
              "      quickchartButtonEl.classList.add('colab-df-spinner');\n",
              "      try {\n",
              "        const charts = await google.colab.kernel.invokeFunction(\n",
              "            'suggestCharts', [key], {});\n",
              "      } catch (error) {\n",
              "        console.error('Error during call to suggestCharts:', error);\n",
              "      }\n",
              "      quickchartButtonEl.classList.remove('colab-df-spinner');\n",
              "      quickchartButtonEl.classList.add('colab-df-quickchart-complete');\n",
              "    }\n",
              "    (() => {\n",
              "      let quickchartButtonEl =\n",
              "        document.querySelector('#df-5680245e-c94d-4f54-95f6-69eadfc4a70c button');\n",
              "      quickchartButtonEl.style.display =\n",
              "        google.colab.kernel.accessAllowed ? 'block' : 'none';\n",
              "    })();\n",
              "  </script>\n",
              "</div>\n",
              "\n",
              "    </div>\n",
              "  </div>\n"
            ]
          },
          "metadata": {},
          "execution_count": 28
        }
      ]
    },
    {
      "cell_type": "code",
      "source": [
        "df2.describe()"
      ],
      "metadata": {
        "colab": {
          "base_uri": "https://localhost:8080/",
          "height": 300
        },
        "id": "sIQSct-OzRpN",
        "outputId": "86295c12-eb13-49eb-b1f0-1caf969750de"
      },
      "execution_count": 29,
      "outputs": [
        {
          "output_type": "execute_result",
          "data": {
            "text/plain": [
              "             budget             id   popularity       revenue      runtime  \\\n",
              "count  4.803000e+03    4803.000000  4803.000000  4.803000e+03  4801.000000   \n",
              "mean   2.904504e+07   57165.484281    21.492301  8.226064e+07   106.875859   \n",
              "std    4.072239e+07   88694.614033    31.816650  1.628571e+08    22.611935   \n",
              "min    0.000000e+00       5.000000     0.000000  0.000000e+00     0.000000   \n",
              "25%    7.900000e+05    9014.500000     4.668070  0.000000e+00    94.000000   \n",
              "50%    1.500000e+07   14629.000000    12.921594  1.917000e+07   103.000000   \n",
              "75%    4.000000e+07   58610.500000    28.313505  9.291719e+07   118.000000   \n",
              "max    3.800000e+08  459488.000000   875.581305  2.787965e+09   338.000000   \n",
              "\n",
              "       vote_average    vote_count  \n",
              "count   4803.000000   4803.000000  \n",
              "mean       6.092172    690.217989  \n",
              "std        1.194612   1234.585891  \n",
              "min        0.000000      0.000000  \n",
              "25%        5.600000     54.000000  \n",
              "50%        6.200000    235.000000  \n",
              "75%        6.800000    737.000000  \n",
              "max       10.000000  13752.000000  "
            ],
            "text/html": [
              "\n",
              "  <div id=\"df-65b64af2-3aea-4bf3-b4ca-46f8292a4651\" class=\"colab-df-container\">\n",
              "    <div>\n",
              "<style scoped>\n",
              "    .dataframe tbody tr th:only-of-type {\n",
              "        vertical-align: middle;\n",
              "    }\n",
              "\n",
              "    .dataframe tbody tr th {\n",
              "        vertical-align: top;\n",
              "    }\n",
              "\n",
              "    .dataframe thead th {\n",
              "        text-align: right;\n",
              "    }\n",
              "</style>\n",
              "<table border=\"1\" class=\"dataframe\">\n",
              "  <thead>\n",
              "    <tr style=\"text-align: right;\">\n",
              "      <th></th>\n",
              "      <th>budget</th>\n",
              "      <th>id</th>\n",
              "      <th>popularity</th>\n",
              "      <th>revenue</th>\n",
              "      <th>runtime</th>\n",
              "      <th>vote_average</th>\n",
              "      <th>vote_count</th>\n",
              "    </tr>\n",
              "  </thead>\n",
              "  <tbody>\n",
              "    <tr>\n",
              "      <th>count</th>\n",
              "      <td>4.803000e+03</td>\n",
              "      <td>4803.000000</td>\n",
              "      <td>4803.000000</td>\n",
              "      <td>4.803000e+03</td>\n",
              "      <td>4801.000000</td>\n",
              "      <td>4803.000000</td>\n",
              "      <td>4803.000000</td>\n",
              "    </tr>\n",
              "    <tr>\n",
              "      <th>mean</th>\n",
              "      <td>2.904504e+07</td>\n",
              "      <td>57165.484281</td>\n",
              "      <td>21.492301</td>\n",
              "      <td>8.226064e+07</td>\n",
              "      <td>106.875859</td>\n",
              "      <td>6.092172</td>\n",
              "      <td>690.217989</td>\n",
              "    </tr>\n",
              "    <tr>\n",
              "      <th>std</th>\n",
              "      <td>4.072239e+07</td>\n",
              "      <td>88694.614033</td>\n",
              "      <td>31.816650</td>\n",
              "      <td>1.628571e+08</td>\n",
              "      <td>22.611935</td>\n",
              "      <td>1.194612</td>\n",
              "      <td>1234.585891</td>\n",
              "    </tr>\n",
              "    <tr>\n",
              "      <th>min</th>\n",
              "      <td>0.000000e+00</td>\n",
              "      <td>5.000000</td>\n",
              "      <td>0.000000</td>\n",
              "      <td>0.000000e+00</td>\n",
              "      <td>0.000000</td>\n",
              "      <td>0.000000</td>\n",
              "      <td>0.000000</td>\n",
              "    </tr>\n",
              "    <tr>\n",
              "      <th>25%</th>\n",
              "      <td>7.900000e+05</td>\n",
              "      <td>9014.500000</td>\n",
              "      <td>4.668070</td>\n",
              "      <td>0.000000e+00</td>\n",
              "      <td>94.000000</td>\n",
              "      <td>5.600000</td>\n",
              "      <td>54.000000</td>\n",
              "    </tr>\n",
              "    <tr>\n",
              "      <th>50%</th>\n",
              "      <td>1.500000e+07</td>\n",
              "      <td>14629.000000</td>\n",
              "      <td>12.921594</td>\n",
              "      <td>1.917000e+07</td>\n",
              "      <td>103.000000</td>\n",
              "      <td>6.200000</td>\n",
              "      <td>235.000000</td>\n",
              "    </tr>\n",
              "    <tr>\n",
              "      <th>75%</th>\n",
              "      <td>4.000000e+07</td>\n",
              "      <td>58610.500000</td>\n",
              "      <td>28.313505</td>\n",
              "      <td>9.291719e+07</td>\n",
              "      <td>118.000000</td>\n",
              "      <td>6.800000</td>\n",
              "      <td>737.000000</td>\n",
              "    </tr>\n",
              "    <tr>\n",
              "      <th>max</th>\n",
              "      <td>3.800000e+08</td>\n",
              "      <td>459488.000000</td>\n",
              "      <td>875.581305</td>\n",
              "      <td>2.787965e+09</td>\n",
              "      <td>338.000000</td>\n",
              "      <td>10.000000</td>\n",
              "      <td>13752.000000</td>\n",
              "    </tr>\n",
              "  </tbody>\n",
              "</table>\n",
              "</div>\n",
              "    <div class=\"colab-df-buttons\">\n",
              "\n",
              "  <div class=\"colab-df-container\">\n",
              "    <button class=\"colab-df-convert\" onclick=\"convertToInteractive('df-65b64af2-3aea-4bf3-b4ca-46f8292a4651')\"\n",
              "            title=\"Convert this dataframe to an interactive table.\"\n",
              "            style=\"display:none;\">\n",
              "\n",
              "  <svg xmlns=\"http://www.w3.org/2000/svg\" height=\"24px\" viewBox=\"0 -960 960 960\">\n",
              "    <path d=\"M120-120v-720h720v720H120Zm60-500h600v-160H180v160Zm220 220h160v-160H400v160Zm0 220h160v-160H400v160ZM180-400h160v-160H180v160Zm440 0h160v-160H620v160ZM180-180h160v-160H180v160Zm440 0h160v-160H620v160Z\"/>\n",
              "  </svg>\n",
              "    </button>\n",
              "\n",
              "  <style>\n",
              "    .colab-df-container {\n",
              "      display:flex;\n",
              "      gap: 12px;\n",
              "    }\n",
              "\n",
              "    .colab-df-convert {\n",
              "      background-color: #E8F0FE;\n",
              "      border: none;\n",
              "      border-radius: 50%;\n",
              "      cursor: pointer;\n",
              "      display: none;\n",
              "      fill: #1967D2;\n",
              "      height: 32px;\n",
              "      padding: 0 0 0 0;\n",
              "      width: 32px;\n",
              "    }\n",
              "\n",
              "    .colab-df-convert:hover {\n",
              "      background-color: #E2EBFA;\n",
              "      box-shadow: 0px 1px 2px rgba(60, 64, 67, 0.3), 0px 1px 3px 1px rgba(60, 64, 67, 0.15);\n",
              "      fill: #174EA6;\n",
              "    }\n",
              "\n",
              "    .colab-df-buttons div {\n",
              "      margin-bottom: 4px;\n",
              "    }\n",
              "\n",
              "    [theme=dark] .colab-df-convert {\n",
              "      background-color: #3B4455;\n",
              "      fill: #D2E3FC;\n",
              "    }\n",
              "\n",
              "    [theme=dark] .colab-df-convert:hover {\n",
              "      background-color: #434B5C;\n",
              "      box-shadow: 0px 1px 3px 1px rgba(0, 0, 0, 0.15);\n",
              "      filter: drop-shadow(0px 1px 2px rgba(0, 0, 0, 0.3));\n",
              "      fill: #FFFFFF;\n",
              "    }\n",
              "  </style>\n",
              "\n",
              "    <script>\n",
              "      const buttonEl =\n",
              "        document.querySelector('#df-65b64af2-3aea-4bf3-b4ca-46f8292a4651 button.colab-df-convert');\n",
              "      buttonEl.style.display =\n",
              "        google.colab.kernel.accessAllowed ? 'block' : 'none';\n",
              "\n",
              "      async function convertToInteractive(key) {\n",
              "        const element = document.querySelector('#df-65b64af2-3aea-4bf3-b4ca-46f8292a4651');\n",
              "        const dataTable =\n",
              "          await google.colab.kernel.invokeFunction('convertToInteractive',\n",
              "                                                    [key], {});\n",
              "        if (!dataTable) return;\n",
              "\n",
              "        const docLinkHtml = 'Like what you see? Visit the ' +\n",
              "          '<a target=\"_blank\" href=https://colab.research.google.com/notebooks/data_table.ipynb>data table notebook</a>'\n",
              "          + ' to learn more about interactive tables.';\n",
              "        element.innerHTML = '';\n",
              "        dataTable['output_type'] = 'display_data';\n",
              "        await google.colab.output.renderOutput(dataTable, element);\n",
              "        const docLink = document.createElement('div');\n",
              "        docLink.innerHTML = docLinkHtml;\n",
              "        element.appendChild(docLink);\n",
              "      }\n",
              "    </script>\n",
              "  </div>\n",
              "\n",
              "\n",
              "<div id=\"df-0935a476-5e93-4404-adbc-1043188465bf\">\n",
              "  <button class=\"colab-df-quickchart\" onclick=\"quickchart('df-0935a476-5e93-4404-adbc-1043188465bf')\"\n",
              "            title=\"Suggest charts\"\n",
              "            style=\"display:none;\">\n",
              "\n",
              "<svg xmlns=\"http://www.w3.org/2000/svg\" height=\"24px\"viewBox=\"0 0 24 24\"\n",
              "     width=\"24px\">\n",
              "    <g>\n",
              "        <path d=\"M19 3H5c-1.1 0-2 .9-2 2v14c0 1.1.9 2 2 2h14c1.1 0 2-.9 2-2V5c0-1.1-.9-2-2-2zM9 17H7v-7h2v7zm4 0h-2V7h2v10zm4 0h-2v-4h2v4z\"/>\n",
              "    </g>\n",
              "</svg>\n",
              "  </button>\n",
              "\n",
              "<style>\n",
              "  .colab-df-quickchart {\n",
              "      --bg-color: #E8F0FE;\n",
              "      --fill-color: #1967D2;\n",
              "      --hover-bg-color: #E2EBFA;\n",
              "      --hover-fill-color: #174EA6;\n",
              "      --disabled-fill-color: #AAA;\n",
              "      --disabled-bg-color: #DDD;\n",
              "  }\n",
              "\n",
              "  [theme=dark] .colab-df-quickchart {\n",
              "      --bg-color: #3B4455;\n",
              "      --fill-color: #D2E3FC;\n",
              "      --hover-bg-color: #434B5C;\n",
              "      --hover-fill-color: #FFFFFF;\n",
              "      --disabled-bg-color: #3B4455;\n",
              "      --disabled-fill-color: #666;\n",
              "  }\n",
              "\n",
              "  .colab-df-quickchart {\n",
              "    background-color: var(--bg-color);\n",
              "    border: none;\n",
              "    border-radius: 50%;\n",
              "    cursor: pointer;\n",
              "    display: none;\n",
              "    fill: var(--fill-color);\n",
              "    height: 32px;\n",
              "    padding: 0;\n",
              "    width: 32px;\n",
              "  }\n",
              "\n",
              "  .colab-df-quickchart:hover {\n",
              "    background-color: var(--hover-bg-color);\n",
              "    box-shadow: 0 1px 2px rgba(60, 64, 67, 0.3), 0 1px 3px 1px rgba(60, 64, 67, 0.15);\n",
              "    fill: var(--button-hover-fill-color);\n",
              "  }\n",
              "\n",
              "  .colab-df-quickchart-complete:disabled,\n",
              "  .colab-df-quickchart-complete:disabled:hover {\n",
              "    background-color: var(--disabled-bg-color);\n",
              "    fill: var(--disabled-fill-color);\n",
              "    box-shadow: none;\n",
              "  }\n",
              "\n",
              "  .colab-df-spinner {\n",
              "    border: 2px solid var(--fill-color);\n",
              "    border-color: transparent;\n",
              "    border-bottom-color: var(--fill-color);\n",
              "    animation:\n",
              "      spin 1s steps(1) infinite;\n",
              "  }\n",
              "\n",
              "  @keyframes spin {\n",
              "    0% {\n",
              "      border-color: transparent;\n",
              "      border-bottom-color: var(--fill-color);\n",
              "      border-left-color: var(--fill-color);\n",
              "    }\n",
              "    20% {\n",
              "      border-color: transparent;\n",
              "      border-left-color: var(--fill-color);\n",
              "      border-top-color: var(--fill-color);\n",
              "    }\n",
              "    30% {\n",
              "      border-color: transparent;\n",
              "      border-left-color: var(--fill-color);\n",
              "      border-top-color: var(--fill-color);\n",
              "      border-right-color: var(--fill-color);\n",
              "    }\n",
              "    40% {\n",
              "      border-color: transparent;\n",
              "      border-right-color: var(--fill-color);\n",
              "      border-top-color: var(--fill-color);\n",
              "    }\n",
              "    60% {\n",
              "      border-color: transparent;\n",
              "      border-right-color: var(--fill-color);\n",
              "    }\n",
              "    80% {\n",
              "      border-color: transparent;\n",
              "      border-right-color: var(--fill-color);\n",
              "      border-bottom-color: var(--fill-color);\n",
              "    }\n",
              "    90% {\n",
              "      border-color: transparent;\n",
              "      border-bottom-color: var(--fill-color);\n",
              "    }\n",
              "  }\n",
              "</style>\n",
              "\n",
              "  <script>\n",
              "    async function quickchart(key) {\n",
              "      const quickchartButtonEl =\n",
              "        document.querySelector('#' + key + ' button');\n",
              "      quickchartButtonEl.disabled = true;  // To prevent multiple clicks.\n",
              "      quickchartButtonEl.classList.add('colab-df-spinner');\n",
              "      try {\n",
              "        const charts = await google.colab.kernel.invokeFunction(\n",
              "            'suggestCharts', [key], {});\n",
              "      } catch (error) {\n",
              "        console.error('Error during call to suggestCharts:', error);\n",
              "      }\n",
              "      quickchartButtonEl.classList.remove('colab-df-spinner');\n",
              "      quickchartButtonEl.classList.add('colab-df-quickchart-complete');\n",
              "    }\n",
              "    (() => {\n",
              "      let quickchartButtonEl =\n",
              "        document.querySelector('#df-0935a476-5e93-4404-adbc-1043188465bf button');\n",
              "      quickchartButtonEl.style.display =\n",
              "        google.colab.kernel.accessAllowed ? 'block' : 'none';\n",
              "    })();\n",
              "  </script>\n",
              "</div>\n",
              "\n",
              "    </div>\n",
              "  </div>\n"
            ]
          },
          "metadata": {},
          "execution_count": 29
        }
      ]
    },
    {
      "cell_type": "code",
      "source": [
        "# Check for missing values in the dataset\n",
        "df1.isnull().sum()"
      ],
      "metadata": {
        "colab": {
          "base_uri": "https://localhost:8080/"
        },
        "id": "8JxuBqJMzRsC",
        "outputId": "35892d90-510a-46c2-bf40-cde40752f3d2"
      },
      "execution_count": 30,
      "outputs": [
        {
          "output_type": "execute_result",
          "data": {
            "text/plain": [
              "id        0\n",
              "tittle    0\n",
              "cast      0\n",
              "crew      0\n",
              "dtype: int64"
            ]
          },
          "metadata": {},
          "execution_count": 30
        }
      ]
    },
    {
      "cell_type": "code",
      "source": [
        "df2.isnull().sum()"
      ],
      "metadata": {
        "colab": {
          "base_uri": "https://localhost:8080/"
        },
        "id": "yBB_CExAzd__",
        "outputId": "89f0d6c2-6354-4e7a-c030-4f89f8d84c56"
      },
      "execution_count": 31,
      "outputs": [
        {
          "output_type": "execute_result",
          "data": {
            "text/plain": [
              "budget                     0\n",
              "genres                     0\n",
              "homepage                3091\n",
              "id                         0\n",
              "keywords                   0\n",
              "original_language          0\n",
              "original_title             0\n",
              "overview                   3\n",
              "popularity                 0\n",
              "production_companies       0\n",
              "production_countries       0\n",
              "release_date               1\n",
              "revenue                    0\n",
              "runtime                    2\n",
              "spoken_languages           0\n",
              "status                     0\n",
              "tagline                  844\n",
              "title                      0\n",
              "vote_average               0\n",
              "vote_count                 0\n",
              "tittle_x                   0\n",
              "cast_x                     0\n",
              "crew_x                     0\n",
              "tittle_y                   0\n",
              "cast_y                     0\n",
              "crew_y                     0\n",
              "dtype: int64"
            ]
          },
          "metadata": {},
          "execution_count": 31
        }
      ]
    },
    {
      "cell_type": "code",
      "source": [
        "# Display information about the dataset\n",
        "df1.info()"
      ],
      "metadata": {
        "colab": {
          "base_uri": "https://localhost:8080/"
        },
        "id": "Y7wFcQFbzeCR",
        "outputId": "6386676d-6815-4c31-c541-6963c40727c1"
      },
      "execution_count": 32,
      "outputs": [
        {
          "output_type": "stream",
          "name": "stdout",
          "text": [
            "<class 'pandas.core.frame.DataFrame'>\n",
            "RangeIndex: 4803 entries, 0 to 4802\n",
            "Data columns (total 4 columns):\n",
            " #   Column  Non-Null Count  Dtype \n",
            "---  ------  --------------  ----- \n",
            " 0   id      4803 non-null   int64 \n",
            " 1   tittle  4803 non-null   object\n",
            " 2   cast    4803 non-null   object\n",
            " 3   crew    4803 non-null   object\n",
            "dtypes: int64(1), object(3)\n",
            "memory usage: 150.2+ KB\n"
          ]
        }
      ]
    },
    {
      "cell_type": "code",
      "source": [
        "df2.info()"
      ],
      "metadata": {
        "colab": {
          "base_uri": "https://localhost:8080/"
        },
        "id": "cmZDAsxBzeFh",
        "outputId": "7028ab13-b8c0-4aea-f07f-d366a8eb9ddf"
      },
      "execution_count": 33,
      "outputs": [
        {
          "output_type": "stream",
          "name": "stdout",
          "text": [
            "<class 'pandas.core.frame.DataFrame'>\n",
            "Int64Index: 4803 entries, 0 to 4802\n",
            "Data columns (total 26 columns):\n",
            " #   Column                Non-Null Count  Dtype  \n",
            "---  ------                --------------  -----  \n",
            " 0   budget                4803 non-null   int64  \n",
            " 1   genres                4803 non-null   object \n",
            " 2   homepage              1712 non-null   object \n",
            " 3   id                    4803 non-null   int64  \n",
            " 4   keywords              4803 non-null   object \n",
            " 5   original_language     4803 non-null   object \n",
            " 6   original_title        4803 non-null   object \n",
            " 7   overview              4800 non-null   object \n",
            " 8   popularity            4803 non-null   float64\n",
            " 9   production_companies  4803 non-null   object \n",
            " 10  production_countries  4803 non-null   object \n",
            " 11  release_date          4802 non-null   object \n",
            " 12  revenue               4803 non-null   int64  \n",
            " 13  runtime               4801 non-null   float64\n",
            " 14  spoken_languages      4803 non-null   object \n",
            " 15  status                4803 non-null   object \n",
            " 16  tagline               3959 non-null   object \n",
            " 17  title                 4803 non-null   object \n",
            " 18  vote_average          4803 non-null   float64\n",
            " 19  vote_count            4803 non-null   int64  \n",
            " 20  tittle_x              4803 non-null   object \n",
            " 21  cast_x                4803 non-null   object \n",
            " 22  crew_x                4803 non-null   object \n",
            " 23  tittle_y              4803 non-null   object \n",
            " 24  cast_y                4803 non-null   object \n",
            " 25  crew_y                4803 non-null   object \n",
            "dtypes: float64(3), int64(4), object(19)\n",
            "memory usage: 1013.1+ KB\n"
          ]
        }
      ]
    },
    {
      "cell_type": "code",
      "source": [
        "# Check if there are any missing values in the DataFrame\n",
        "df1.isna().any()"
      ],
      "metadata": {
        "colab": {
          "base_uri": "https://localhost:8080/"
        },
        "id": "x_djcWMfzo5R",
        "outputId": "ab427ca0-6a45-4232-ea48-c42c283acabe"
      },
      "execution_count": 34,
      "outputs": [
        {
          "output_type": "execute_result",
          "data": {
            "text/plain": [
              "id        False\n",
              "tittle    False\n",
              "cast      False\n",
              "crew      False\n",
              "dtype: bool"
            ]
          },
          "metadata": {},
          "execution_count": 34
        }
      ]
    },
    {
      "cell_type": "code",
      "source": [
        "df2.isna().any()"
      ],
      "metadata": {
        "colab": {
          "base_uri": "https://localhost:8080/"
        },
        "id": "DA3kPg9qzo8M",
        "outputId": "b9b4414d-d26e-46fa-c4a0-fe6adf136c14"
      },
      "execution_count": 35,
      "outputs": [
        {
          "output_type": "execute_result",
          "data": {
            "text/plain": [
              "budget                  False\n",
              "genres                  False\n",
              "homepage                 True\n",
              "id                      False\n",
              "keywords                False\n",
              "original_language       False\n",
              "original_title          False\n",
              "overview                 True\n",
              "popularity              False\n",
              "production_companies    False\n",
              "production_countries    False\n",
              "release_date             True\n",
              "revenue                 False\n",
              "runtime                  True\n",
              "spoken_languages        False\n",
              "status                  False\n",
              "tagline                  True\n",
              "title                   False\n",
              "vote_average            False\n",
              "vote_count              False\n",
              "tittle_x                False\n",
              "cast_x                  False\n",
              "crew_x                  False\n",
              "tittle_y                False\n",
              "cast_y                  False\n",
              "crew_y                  False\n",
              "dtype: bool"
            ]
          },
          "metadata": {},
          "execution_count": 35
        }
      ]
    },
    {
      "cell_type": "code",
      "source": [
        "# Display the columns present in the DataFrame\n",
        "df1.columns"
      ],
      "metadata": {
        "colab": {
          "base_uri": "https://localhost:8080/"
        },
        "id": "lhyw8Dj_zo-e",
        "outputId": "a4df46dc-91fb-4bd0-edb4-077f9e984bda"
      },
      "execution_count": 36,
      "outputs": [
        {
          "output_type": "execute_result",
          "data": {
            "text/plain": [
              "Index(['id', 'tittle', 'cast', 'crew'], dtype='object')"
            ]
          },
          "metadata": {},
          "execution_count": 36
        }
      ]
    },
    {
      "cell_type": "code",
      "source": [
        "df2.columns"
      ],
      "metadata": {
        "colab": {
          "base_uri": "https://localhost:8080/"
        },
        "id": "Ju5F56PYzpB2",
        "outputId": "695b3c08-8c86-49d6-f5da-8617967fbe4f"
      },
      "execution_count": 37,
      "outputs": [
        {
          "output_type": "execute_result",
          "data": {
            "text/plain": [
              "Index(['budget', 'genres', 'homepage', 'id', 'keywords', 'original_language',\n",
              "       'original_title', 'overview', 'popularity', 'production_companies',\n",
              "       'production_countries', 'release_date', 'revenue', 'runtime',\n",
              "       'spoken_languages', 'status', 'tagline', 'title', 'vote_average',\n",
              "       'vote_count', 'tittle_x', 'cast_x', 'crew_x', 'tittle_y', 'cast_y',\n",
              "       'crew_y'],\n",
              "      dtype='object')"
            ]
          },
          "metadata": {},
          "execution_count": 37
        }
      ]
    },
    {
      "cell_type": "markdown",
      "source": [
        "# **Demographic Filtering** -\n",
        "   Before getting started with this  -\n",
        "* We need a metric to score or rate movie\n",
        "* Calculate the score for every movie\n",
        "* Sort the scores and recommend the best rated movie to the users.\n",
        "\n",
        "We can use the average ratings of the movie as the score but using this won't be fair enough since a movie with 8.9 average rating and only 3 votes cannot be considered better than the movie with 7.8 as as average rating but 40 votes.\n",
        "So, I'll be using IMDB's weighted rating (wr) which is given as :-\n",
        "\n",
        "![](https://image.ibb.co/jYWZp9/wr.png)\n",
        "\n",
        "where,\n",
        "* v is the number of votes for the movie;\n",
        "* m is the minimum votes required to be listed in the chart;\n",
        "* R is the average rating of the movie; And\n",
        "* C is the mean vote across the whole report\n",
        "\n",
        "We already have v(**vote_count**) and R (**vote_average**) and C can be calculated as"
      ],
      "metadata": {
        "id": "QPZ4gSOD0U9F"
      }
    },
    {
      "cell_type": "code",
      "source": [
        "C= df2['vote_average'].mean()\n",
        "C"
      ],
      "metadata": {
        "colab": {
          "base_uri": "https://localhost:8080/"
        },
        "id": "R06H5zuazpDp",
        "outputId": "2065453c-25d0-4805-9c91-7f4227cd672f"
      },
      "execution_count": 38,
      "outputs": [
        {
          "output_type": "execute_result",
          "data": {
            "text/plain": [
              "6.092171559442016"
            ]
          },
          "metadata": {},
          "execution_count": 38
        }
      ]
    },
    {
      "cell_type": "markdown",
      "source": [
        "Thus, on a scale of 10 points, the average rating for all the films is roughly 6.\n",
        "\n",
        "Finding a suitable figure for m—the minimum number of votes needed to be included in the chart—is the next step.\n",
        "\n",
        "The 90th percentile will serve as our cutoff point. Put otherwise, a film needs to receive more votes than at least 90% of the other films on the list in order to be included in the charts."
      ],
      "metadata": {
        "id": "h7n22JDK0trX"
      }
    },
    {
      "cell_type": "code",
      "source": [
        "m= df2['vote_count'].quantile(0.9)\n",
        "m"
      ],
      "metadata": {
        "colab": {
          "base_uri": "https://localhost:8080/"
        },
        "id": "vMihG9_Ez2bz",
        "outputId": "6c558819-06b2-48a3-f19f-757cde27ec0f"
      },
      "execution_count": 39,
      "outputs": [
        {
          "output_type": "execute_result",
          "data": {
            "text/plain": [
              "1838.4000000000015"
            ]
          },
          "metadata": {},
          "execution_count": 39
        }
      ]
    },
    {
      "cell_type": "markdown",
      "source": [
        "Now, to filter out the movies that qualify for the chart"
      ],
      "metadata": {
        "id": "gDrk1O51091n"
      }
    },
    {
      "cell_type": "code",
      "source": [
        "q_movies = df2.copy().loc[df2['vote_count'] >= m]\n",
        "q_movies.shape"
      ],
      "metadata": {
        "colab": {
          "base_uri": "https://localhost:8080/"
        },
        "id": "YncBW9qsz2eM",
        "outputId": "e4f121bf-c5cd-4733-d659-b6bbfa65d4bc"
      },
      "execution_count": 40,
      "outputs": [
        {
          "output_type": "execute_result",
          "data": {
            "text/plain": [
              "(481, 26)"
            ]
          },
          "metadata": {},
          "execution_count": 40
        }
      ]
    },
    {
      "cell_type": "markdown",
      "source": [
        "It is evident that 481 films meet the requirements to be included in this list. We now have to figure out our statistic for every eligible film.\n",
        "\n",
        "To accomplish this, we will create a new feature called **score** and build a function called **weighted_rating()**. We will then apply this function to our DataFrame of qualified movies to determine the value of the new feature.\n"
      ],
      "metadata": {
        "id": "btoYkrxx1L3f"
      }
    },
    {
      "cell_type": "code",
      "source": [
        "def weighted_rating(x, m=m, C=C):\n",
        "    # Extracting the number of votes and average rating for the item\n",
        "    v = x['vote_count']\n",
        "    R = x['vote_average']\n",
        "\n",
        "    # Weighted Rating Calculation (IMDB Formula)\n",
        "    # Part 1: Weighted average rating based on the number of votes\n",
        "    term1 = (v / (v + m)) * R\n",
        "\n",
        "    # Part 2: Regularization term to avoid bias towards items with very few votes\n",
        "\n",
        "    term2 = (m / (m + v)) * C\n",
        "    # Combine the two terms to get the final weighted rating\n",
        "    weighted_rating = term1 + term2\n",
        "\n",
        "    return weighted_rating"
      ],
      "metadata": {
        "id": "rhQF6CJi1BH6"
      },
      "execution_count": 41,
      "outputs": []
    },
    {
      "cell_type": "code",
      "source": [
        "# Define a new feature 'score' and calculate its value with `weighted_rating()`\n",
        "q_movies['score'] = q_movies.apply(weighted_rating, axis=1)"
      ],
      "metadata": {
        "id": "zeba8L6T1BKF"
      },
      "execution_count": 43,
      "outputs": []
    },
    {
      "cell_type": "markdown",
      "source": [
        "Finally, sort the DataFrame by score and output the top ten movies' titles, vote counts, vote averages, and weighted ratings or scores.\n"
      ],
      "metadata": {
        "id": "zfOc55nj2GGU"
      }
    },
    {
      "cell_type": "code",
      "source": [
        "# Sort movies based on the calculated score in descending order\n",
        "q_movies = q_movies.sort_values('score', ascending=False)\n",
        "\n",
        "# Display the top 10 movies with relevant information\n",
        "top_movies_info = q_movies[['title', 'vote_count', 'vote_average', 'score']].head(10)\n",
        "print(\"Top 10 Movies:\")\n",
        "print(top_movies_info)"
      ],
      "metadata": {
        "colab": {
          "base_uri": "https://localhost:8080/"
        },
        "id": "yI7NZ5Zw18fv",
        "outputId": "29afc5f8-ced9-461b-baf9-081b7b7bb80f"
      },
      "execution_count": 45,
      "outputs": [
        {
          "output_type": "stream",
          "name": "stdout",
          "text": [
            "Top 10 Movies:\n",
            "                                              title  vote_count  vote_average  \\\n",
            "1881                       The Shawshank Redemption        8205           8.5   \n",
            "662                                      Fight Club        9413           8.3   \n",
            "65                                  The Dark Knight       12002           8.2   \n",
            "3232                                   Pulp Fiction        8428           8.3   \n",
            "96                                        Inception       13752           8.1   \n",
            "3337                                  The Godfather        5893           8.4   \n",
            "95                                     Interstellar       10867           8.1   \n",
            "809                                    Forrest Gump        7927           8.2   \n",
            "329   The Lord of the Rings: The Return of the King        8064           8.1   \n",
            "1990                        The Empire Strikes Back        5879           8.2   \n",
            "\n",
            "         score  \n",
            "1881  8.059258  \n",
            "662   7.939256  \n",
            "65    7.920020  \n",
            "3232  7.904645  \n",
            "96    7.863239  \n",
            "3337  7.851236  \n",
            "95    7.809479  \n",
            "809   7.803188  \n",
            "329   7.727243  \n",
            "1990  7.697884  \n"
          ]
        }
      ]
    },
    {
      "cell_type": "code",
      "source": [
        "# Sort the DataFrame based on 'popularity' column in descending order\n",
        "popularity_sorted = df2.sort_values('popularity', ascending=False)\n",
        "\n",
        "# Set up the figure for the bar chart\n",
        "plt.figure(figsize=(16, 6))\n",
        "\n",
        "# Plot a horizontal bar chart for the top 6 popular movies\n",
        "plt.barh(popularity_sorted['title'].head(6), popularity_sorted['popularity'].head(6), align='center', color='green')\n",
        "\n",
        "# Invert the y-axis for better readability\n",
        "plt.gca().invert_yaxis()\n",
        "\n",
        "# Set labels and title for the chart\n",
        "plt.xlabel(\"Popularity\")\n",
        "plt.title(\"Top 6 Popular Movies\")\n",
        "\n",
        "# Show the plot\n",
        "plt.show()"
      ],
      "metadata": {
        "colab": {
          "base_uri": "https://localhost:8080/",
          "height": 440
        },
        "id": "vkoHI3w218iR",
        "outputId": "13454dad-8467-4d9e-9d33-0a44567b69ec"
      },
      "execution_count": 50,
      "outputs": [
        {
          "output_type": "display_data",
          "data": {
            "text/plain": [
              "<Figure size 1600x600 with 1 Axes>"
            ],
            "image/png": "[encoded data removed]"
          },
          "metadata": {}
        }
      ]
    },
    {
      "cell_type": "markdown",
      "source": [
        "Popularity-based films is shown in the above plot\n",
        "---"
      ],
      "metadata": {
        "id": "Cmjil8fW22Ge"
      }
    },
    {
      "cell_type": "markdown",
      "source": [
        "# **Content Based Filtering**\n",
        "In this recommender system the content of the movie (overview, cast, crew, keyword, tagline etc) is used to find its similarity with other movies. Then the movies that are most likely to be similar are recommended."
      ],
      "metadata": {
        "id": "jvW7hque3Laf"
      }
    },
    {
      "cell_type": "markdown",
      "source": [
        "## **Plot description based Recommender**\n",
        "\n",
        "Based on the plot descriptions of each movie, we will calculate pairwise similarity ratings for each one and then suggest movies based on those similarity values.\n",
        "\n",
        "The **overview** feature of our dataset provides a description of the plot.\n"
      ],
      "metadata": {
        "id": "a9cx4ina3Wzl"
      }
    },
    {
      "cell_type": "code",
      "source": [
        "# Display the overview of the first 5 movies\n",
        "print(df2['overview'].head(5))"
      ],
      "metadata": {
        "colab": {
          "base_uri": "https://localhost:8080/"
        },
        "id": "h-e0BpkF18k1",
        "outputId": "eab81cf6-bd76-4f3a-9fd2-a4a08c2915bd"
      },
      "execution_count": 52,
      "outputs": [
        {
          "output_type": "stream",
          "name": "stdout",
          "text": [
            "0    In the 22nd century, a paraplegic Marine is di...\n",
            "1    Captain Barbossa, long believed to be dead, ha...\n",
            "2    A cryptic message from Bond’s past sends him o...\n",
            "3    Following the death of District Attorney Harve...\n",
            "4    John Carter is a war-weary, former military ca...\n",
            "Name: overview, dtype: object\n"
          ]
        }
      ]
    },
    {
      "cell_type": "markdown",
      "source": [
        "Anyone who has done any text processing understands that we need to convert the word vectors of each overview.\n",
        "We will now generate Term Frequency-Inverse Document Frequency (TF-IDF) vectors for each overview.\n",
        "\n",
        "\n",
        "Now if you are wondering what is term frequency , it is the relative frequency of a word in a document and is given as\n",
        "   **(term instances/total instances)**.\n",
        "Inverse Document Frequency is the relative count of documents containing the term is given as\n",
        "**log(number of documents/documents with term)**\n",
        "The overall importance of each word to the documents in which they appear is equal to **TF * IDF**\n",
        "\n",
        "\n",
        "Fortunately, scikit-learn gives you a built-in TfIdfVectorizer class that produces the TF-IDF matrix in a couple of lines."
      ],
      "metadata": {
        "id": "fJRuB6ss4YlK"
      }
    },
    {
      "cell_type": "code",
      "source": [
        "# Import TfIdfVectorizer from scikit-learn\n",
        "from sklearn.feature_extraction.text import TfidfVectorizer\n",
        "\n",
        "# Define a TF-IDF Vectorizer Object. Remove all English stop words such as 'the', 'a'\n",
        "tfidf = TfidfVectorizer(stop_words='english')\n",
        "\n",
        "# Replace NaN with an empty string\n",
        "df2['overview'] = df2['overview'].fillna('')\n",
        "\n",
        "# Construct the TF-IDF matrix by fitting and transforming the data\n",
        "tfidf_matrix = tfidf.fit_transform(df2['overview'])\n",
        "\n",
        "# Display the shape of tfidf_matrix\n",
        "print(f\"TF-IDF Matrix Shape: {tfidf_matrix.shape}\")"
      ],
      "metadata": {
        "colab": {
          "base_uri": "https://localhost:8080/"
        },
        "id": "yy6cMJS918py",
        "outputId": "2256e372-a5a9-48a2-fac7-ec458bce37cf"
      },
      "execution_count": 54,
      "outputs": [
        {
          "output_type": "stream",
          "name": "stdout",
          "text": [
            "TF-IDF Matrix Shape: (4803, 20978)\n"
          ]
        }
      ]
    },
    {
      "cell_type": "markdown",
      "source": [
        "With this matrix in hand, we can now compute a similarity score. There are several candidates for this; such as the euclidean, the Pearson and the [cosine similarity scores](https://en.wikipedia.org/wiki/Cosine_similarity). There is no right answer to which score is the best. Different scores work well in different scenarios and it is often a good idea to experiment with different metrics.\n",
        "\n",
        "We will be using the cosine similarity to calculate a numeric quantity that denotes the similarity between two movies. We use the cosine similarity score since it is independent of magnitude and is relatively easy and fast to calculate.\n",
        "\n",
        "Since we employed the TF-IDF vectorizer, calculating the dot product yields the cosine similarity score. Therefore, we will use sklearn's **linear_kernel()** instead of cosine_similarities() because it is faster.\n"
      ],
      "metadata": {
        "id": "eqGpoedm45iz"
      }
    },
    {
      "cell_type": "code",
      "source": [
        "# Compute the cosine similarity matrix\n",
        "cosine_sim = linear_kernel(tfidf_matrix, tfidf_matrix)"
      ],
      "metadata": {
        "id": "ofAJppWW4vL2"
      },
      "execution_count": 56,
      "outputs": []
    },
    {
      "cell_type": "code",
      "source": [
        "# Construct a reverse map of indices and movie titles\n",
        "indices = pd.Series(df2.index, index=df2['title']).drop_duplicates()"
      ],
      "metadata": {
        "id": "I301WpaB4vOX"
      },
      "execution_count": 58,
      "outputs": []
    },
    {
      "cell_type": "code",
      "source": [
        "# Function to get movie recommendations based on similarity scores\n",
        "def get_recommendations(title, cosine_similarity_matrix=cosine_sim):\n",
        "\n",
        "    # Get the index of the movie that matches the input title\n",
        "    movie_index = indices[title]\n",
        "    # Get the cosine similarity scores for the specified movie\n",
        "    similarity_scores = list(enumerate(cosine_similarity_matrix[movie_index]))\n",
        "    # Sort the movies based on similarity scores in descending order\n",
        "    sorted_scores = sorted(similarity_scores, key=lambda x: x[1], reverse=True)\n",
        "    # Extract the indices of the top 10 most similar movies\n",
        "    top_movie_indices = [index for index, score in sorted_scores[1:11]]\n",
        "    # Return the titles of the top 10 most similar movies\n",
        "    top_movie_titles = df2['title'].iloc[top_movie_indices]\n",
        "\n",
        "    return top_movie_titles"
      ],
      "metadata": {
        "id": "NaY8HtmG4vRt"
      },
      "execution_count": 60,
      "outputs": []
    },
    {
      "cell_type": "code",
      "source": [
        "print(get_recommendations('The Dark Knight Rises'))"
      ],
      "metadata": {
        "colab": {
          "base_uri": "https://localhost:8080/"
        },
        "id": "Y3E2jlwt4vT-",
        "outputId": "935cabd3-f115-47e5-8bf4-fee0098010ee"
      },
      "execution_count": 61,
      "outputs": [
        {
          "output_type": "stream",
          "name": "stdout",
          "text": [
            "65                              The Dark Knight\n",
            "299                              Batman Forever\n",
            "428                              Batman Returns\n",
            "1359                                     Batman\n",
            "3854    Batman: The Dark Knight Returns, Part 2\n",
            "119                               Batman Begins\n",
            "2507                                  Slow Burn\n",
            "9            Batman v Superman: Dawn of Justice\n",
            "1181                                        JFK\n",
            "210                              Batman & Robin\n",
            "Name: title, dtype: object\n"
          ]
        }
      ]
    },
    {
      "cell_type": "code",
      "source": [
        "print(get_recommendations('The Avengers'))"
      ],
      "metadata": {
        "colab": {
          "base_uri": "https://localhost:8080/"
        },
        "id": "eOeob8yA4vab",
        "outputId": "310735fb-0376-4fd6-a328-f3bd8c9f6c85"
      },
      "execution_count": 62,
      "outputs": [
        {
          "output_type": "stream",
          "name": "stdout",
          "text": [
            "7               Avengers: Age of Ultron\n",
            "3144                            Plastic\n",
            "1715                            Timecop\n",
            "4124                 This Thing of Ours\n",
            "3311              Thank You for Smoking\n",
            "3033                      The Corruptor\n",
            "588     Wall Street: Money Never Sleeps\n",
            "2136         Team America: World Police\n",
            "1468                       The Fountain\n",
            "1286                        Snowpiercer\n",
            "Name: title, dtype: object\n"
          ]
        }
      ]
    },
    {
      "cell_type": "markdown",
      "source": [
        "## **Credits, Genres and Keywords Based Recommender**\n",
        "\n",
        " We are going to build a recommender based on the following metadata: the 3 top actors, the director, related genres and the movie plot keywords.\n",
        "\n",
        " Right now, our data is present in the form of \"stringified\" lists , we need to convert it into a safe and usable structure"
      ],
      "metadata": {
        "id": "GGfnm6bi7EAH"
      }
    },
    {
      "cell_type": "code",
      "source": [
        "features = ['cast', 'crew', 'keywords', 'genres']\n",
        "\n",
        "for feature in features:\n",
        "    try:\n",
        "        df2[feature] = df2[feature].apply(literal_eval)\n",
        "    except (ValueError, KeyError) as e:\n",
        "        print(f\"Error in column '{feature}': {e}\")"
      ],
      "metadata": {
        "colab": {
          "base_uri": "https://localhost:8080/"
        },
        "id": "MZt4TgUI6kMr",
        "outputId": "b78d8fda-33f3-4bdb-e50b-ce0984ca51c0"
      },
      "execution_count": 72,
      "outputs": [
        {
          "output_type": "stream",
          "name": "stdout",
          "text": [
            "Error in column 'cast': 'cast'\n",
            "Error in column 'crew': 'crew'\n",
            "Error in column 'keywords': malformed node or string: [{'id': 1463, 'name': 'culture clash'}, {'id': 2964, 'name': 'future'}, {'id': 3386, 'name': 'space war'}, {'id': 3388, 'name': 'space colony'}, {'id': 3679, 'name': 'society'}, {'id': 3801, 'name': 'space travel'}, {'id': 9685, 'name': 'futuristic'}, {'id': 9840, 'name': 'romance'}, {'id': 9882, 'name': 'space'}, {'id': 9951, 'name': 'alien'}, {'id': 10148, 'name': 'tribe'}, {'id': 10158, 'name': 'alien planet'}, {'id': 10987, 'name': 'cgi'}, {'id': 11399, 'name': 'marine'}, {'id': 13065, 'name': 'soldier'}, {'id': 14643, 'name': 'battle'}, {'id': 14720, 'name': 'love affair'}, {'id': 165431, 'name': 'anti war'}, {'id': 193554, 'name': 'power relations'}, {'id': 206690, 'name': 'mind and soul'}, {'id': 209714, 'name': '3d'}]\n",
            "Error in column 'genres': malformed node or string: [{'id': 28, 'name': 'Action'}, {'id': 12, 'name': 'Adventure'}, {'id': 14, 'name': 'Fantasy'}, {'id': 878, 'name': 'Science Fiction'}]\n"
          ]
        }
      ]
    },
    {
      "cell_type": "code",
      "source": [
        "# Check if 'crew' column is present in the DataFrame\n",
        "if 'crew' in df2.columns:\n",
        "    # Get the director's name from the crew feature. If director is not listed, return NaN\n",
        "    def get_director(x):\n",
        "        try:\n",
        "            directors = [i['name'] for i in x if i['job'] == 'Director']\n",
        "            return directors[0] if directors else np.nan\n",
        "        except (KeyError, IndexError):\n",
        "            return np.nan\n",
        "\n",
        "\n",
        "    df2['director'] = df2['crew'].apply(get_director)\n",
        "else:\n",
        "    print(\"The 'crew' column is not present in the DataFrame.\")\n"
      ],
      "metadata": {
        "colab": {
          "base_uri": "https://localhost:8080/"
        },
        "id": "c4TcypEe6kPE",
        "outputId": "ab49ce76-07d7-478f-8da4-8b41f02ea61f"
      },
      "execution_count": 76,
      "outputs": [
        {
          "output_type": "stream",
          "name": "stdout",
          "text": [
            "The 'crew' column is not present in the DataFrame.\n"
          ]
        }
      ]
    },
    {
      "cell_type": "code",
      "source": [
        "# Returns the list top 3 elements or entire list; whichever is more.\n",
        "def get_list(x):\n",
        "    if isinstance(x, list):\n",
        "        names = [i['name'] for i in x]\n",
        "        #Check if more than 3 elements exist. If yes, return only first three. If no, return entire list.\n",
        "        if len(names) > 3:\n",
        "            names = names[:3]\n",
        "        return names\n",
        "\n",
        "    #Return empty list in case of missing/malformed data\n",
        "    return []"
      ],
      "metadata": {
        "id": "Zc8EjkBz6kXJ"
      },
      "execution_count": 80,
      "outputs": []
    },
    {
      "cell_type": "code",
      "source": [
        "# Check if 'crew' column is present in the DataFrame\n",
        "if 'crew' in df2.columns:\n",
        "    # Get the director's name from the crew feature. If director is not listed, return NaN\n",
        "    def get_director(x):\n",
        "        try:\n",
        "            directors = [i['name'] for i in x if i['job'] == 'Director']\n",
        "            return directors[0] if directors else np.nan\n",
        "        except (KeyError, IndexError):\n",
        "            return np.nan\n",
        "\n",
        "    # Define a function to get the top 3 elements from a list\n",
        "    def get_list(x):\n",
        "        try:\n",
        "            if isinstance(x, list):\n",
        "                # Create a list of names from the input list\n",
        "                names = [item.get('name') for item in x]\n",
        "                # Filter out None values and return the first three names\n",
        "                return list(filter(None, names))[:3]\n",
        "        except (KeyError, TypeError):\n",
        "            pass  # Handle KeyError or TypeError by doing nothing\n",
        "\n",
        "        # Return an empty list in case of missing/malformed data\n",
        "        return []\n",
        "\n",
        "    # Apply the functions to the specified features\n",
        "    df2['director'] = df2['crew'].apply(get_director)\n",
        "\n",
        "    features = ['cast', 'keywords', 'genres']\n",
        "    for feature in features:\n",
        "        df2[feature] = df2[feature].apply(get_list)\n",
        "\n",
        "    # Print the selected columns for the first 3 films\n",
        "    print(df2[['title', 'cast', 'director', 'keywords', 'genres']].head(3))\n",
        "else:\n",
        "    print(\"The 'crew' column is not present in the DataFrame.\")\n"
      ],
      "metadata": {
        "colab": {
          "base_uri": "https://localhost:8080/"
        },
        "id": "FMq8uSxX9Q5c",
        "outputId": "4cf8d663-dc81-4396-a14e-80a5056251cf"
      },
      "execution_count": 87,
      "outputs": [
        {
          "output_type": "stream",
          "name": "stdout",
          "text": [
            "The 'crew' column is not present in the DataFrame.\n"
          ]
        }
      ]
    },
    {
      "cell_type": "code",
      "source": [
        "# Check if 'cast', 'director', 'keywords', and 'genres' columns are present in the DataFrame\n",
        "required_columns = ['cast', 'director', 'keywords', 'genres']\n",
        "if all(column in df2.columns for column in required_columns):\n",
        "    # Print the new features of the first 3 films\n",
        "    print(df2[['title', 'cast', 'director', 'keywords', 'genres']].head(3))\n",
        "else:\n",
        "    missing_columns = [column for column in required_columns if column not in df2.columns]\n",
        "    print(f\"The following columns are missing: {missing_columns}\")"
      ],
      "metadata": {
        "colab": {
          "base_uri": "https://localhost:8080/"
        },
        "id": "FOoavLJl9Q7_",
        "outputId": "820b7e93-2872-41b9-d486-637888c12371"
      },
      "execution_count": 89,
      "outputs": [
        {
          "output_type": "stream",
          "name": "stdout",
          "text": [
            "The following columns are missing: ['cast', 'director']\n"
          ]
        }
      ]
    },
    {
      "cell_type": "markdown",
      "source": [
        "The names and keyword instances would then be converted to lowercase, and any spaces would be removed. This is to prevent \"Johnny Galecki\" and \"Johnny Depp\" from being counted as the same by our vectorizer.\n"
      ],
      "metadata": {
        "id": "AWs8foPB-K4O"
      }
    },
    {
      "cell_type": "code",
      "source": [
        "# Function to convert all strings to lower case and strip names of spaces\n",
        "def clean_data(x):\n",
        "    if isinstance(x, list):\n",
        "        return [str.lower(i.replace(\" \", \"\")) for i in x]\n",
        "    else:\n",
        "        #Check if director exists. If not, return empty string\n",
        "        if isinstance(x, str):\n",
        "            return str.lower(x.replace(\" \", \"\"))\n",
        "        else:\n",
        "            return ''"
      ],
      "metadata": {
        "id": "eOP7nyKr-Gng"
      },
      "execution_count": 90,
      "outputs": []
    },
    {
      "cell_type": "code",
      "source": [
        "# Function to convert all strings to lower case and strip names of spaces\n",
        "def clean_data(x):\n",
        "    if isinstance(x, list):\n",
        "        # Check if the elements are dictionaries\n",
        "        if all(isinstance(item, dict) for item in x):\n",
        "            return [str.lower(item['name'].replace(\" \", \"\")) for item in x]\n",
        "        else:\n",
        "            return [str.lower(item.replace(\" \", \"\")) for item in x]\n",
        "    elif isinstance(x, str):\n",
        "        return str.lower(x.replace(\" \", \"\"))\n",
        "    else:\n",
        "        return ''\n",
        "\n",
        "# Apply clean_data function to your features.\n",
        "features = ['cast', 'keywords', 'director', 'genres']\n",
        "\n",
        "for feature in features:\n",
        "    if feature in df2.columns:\n",
        "        df2[feature] = df2[feature].apply(clean_data)\n",
        "    else:\n",
        "        print(f\"Column '{feature}' not found in the DataFrame.\")\n"
      ],
      "metadata": {
        "colab": {
          "base_uri": "https://localhost:8080/"
        },
        "id": "PzlMN8Xv-GqA",
        "outputId": "bdd2eba6-fc73-46c4-a6ed-c6cbfd9485d2"
      },
      "execution_count": 93,
      "outputs": [
        {
          "output_type": "stream",
          "name": "stdout",
          "text": [
            "Column 'cast' not found in the DataFrame.\n",
            "Column 'director' not found in the DataFrame.\n"
          ]
        }
      ]
    },
    {
      "cell_type": "markdown",
      "source": [
        "Now that we have all the metadata (actors, director, and keywords) that we wish to feed into our vectorizer, we can generate our \"metadata soup\"—a string.\n"
      ],
      "metadata": {
        "id": "dEbiL87p-xKi"
      }
    },
    {
      "cell_type": "code",
      "source": [
        "# Function to create soup from keywords, cast, director, and genres\n",
        "def create_soup(x):\n",
        "    keywords = x['keywords'] if 'keywords' in x else []\n",
        "    cast = x['cast'] if 'cast' in x else []\n",
        "    director = x['director'] if 'director' in x else \"\"\n",
        "    genres = x['genres'] if 'genres' in x else []\n",
        "\n",
        "    return ' '.join(keywords) + ' ' + ' '.join(cast) + ' ' + director + ' ' + ' '.join(genres)\n",
        "\n",
        "# Apply create_soup function to the DataFrame\n",
        "df2['soup'] = df2.apply(create_soup, axis=1)\n"
      ],
      "metadata": {
        "id": "5ljO6VfB-Gtu"
      },
      "execution_count": 95,
      "outputs": []
    },
    {
      "cell_type": "markdown",
      "source": [
        "The next actions are the same as those we took with our recommender based on a storyline description.\n",
        "\n",
        "The fact that we employ **CountVectorizer()** rather than TF-IDF is one significant distinction.\n",
        "\n",
        "This is due to the fact that we do not want to underestimate the contribution of an actor or director who has made comparatively more films. Not much of it makes intuitive sense.\n"
      ],
      "metadata": {
        "id": "oPAasZC-_KL_"
      }
    },
    {
      "cell_type": "code",
      "source": [
        "count = CountVectorizer(stop_words='english')\n",
        "count_matrix = count.fit_transform(df2['soup'])"
      ],
      "metadata": {
        "id": "68irgoch-Gv9"
      },
      "execution_count": 96,
      "outputs": []
    },
    {
      "cell_type": "code",
      "source": [
        "cosine_sim2 = cosine_similarity(count_matrix, count_matrix)"
      ],
      "metadata": {
        "id": "vM8bxYko-GzX"
      },
      "execution_count": 97,
      "outputs": []
    },
    {
      "cell_type": "code",
      "source": [
        "# Reset index of our main DataFrame and construct reverse mapping as before\n",
        "df2 = df2.reset_index()\n",
        "indices = pd.Series(df2.index, index=df2['title'])"
      ],
      "metadata": {
        "id": "RmoK2G3D_YLV"
      },
      "execution_count": 98,
      "outputs": []
    },
    {
      "cell_type": "markdown",
      "source": [
        "Now that we have the updated **cosine_sim2** matrix as your second argument, we can reuse our **get_recommendations()** code.\n"
      ],
      "metadata": {
        "id": "ptdX9XFH_ecM"
      }
    },
    {
      "cell_type": "code",
      "source": [
        "print(get_recommendations('The Dark Knight Rises', cosine_sim2))"
      ],
      "metadata": {
        "colab": {
          "base_uri": "https://localhost:8080/"
        },
        "id": "DdnwlPP8_YNo",
        "outputId": "4b375921-8f23-4039-e6fe-b4c572113c35"
      },
      "execution_count": 99,
      "outputs": [
        {
          "output_type": "stream",
          "name": "stdout",
          "text": [
            "65           The Dark Knight\n",
            "1986                  Faster\n",
            "3359             In Too Deep\n",
            "119            Batman Begins\n",
            "3819                Defendor\n",
            "1253           Kiss of Death\n",
            "1503                  Takers\n",
            "2793    The Killer Inside Me\n",
            "210           Batman & Robin\n",
            "866       Bullet to the Head\n",
            "Name: title, dtype: object\n"
          ]
        }
      ]
    },
    {
      "cell_type": "code",
      "source": [
        "print(get_recommendations('Scarface', cosine_sim2))"
      ],
      "metadata": {
        "colab": {
          "base_uri": "https://localhost:8080/"
        },
        "id": "jrSXWhJv_YRB",
        "outputId": "a2d8afc1-7559-49fe-992a-c8b03095554c"
      },
      "execution_count": 103,
      "outputs": [
        {
          "output_type": "stream",
          "name": "stdout",
          "text": [
            "1986                Faster\n",
            "3359           In Too Deep\n",
            "1253         Kiss of Death\n",
            "1503                Takers\n",
            "2255             The Yards\n",
            "866     Bullet to the Head\n",
            "1269     Raise the Titanic\n",
            "1873            Blood Ties\n",
            "2502                  Zulu\n",
            "2646        Silent Trigger\n",
            "Name: title, dtype: object\n"
          ]
        }
      ]
    },
    {
      "cell_type": "markdown",
      "source": [
        "# **Collaborative Filtering**\n",
        "\n",
        "Our content based engine suffers from some severe limitations. It is only capable of suggesting movies which are close to a certain movie. That is, it is not capable of capturing tastes and providing recommendations across genres.\n",
        "\n",
        "Also, the engine that we built is not really personal in that it doesn't capture the personal tastes and biases of a user. Anyone querying our engine for recommendations based on a movie will receive the same recommendations for that movie, regardless of who she/he is.\n",
        "\n",
        "Therefore, in this section, we will use a technique called Collaborative Filtering to make recommendations to Movie Watchers.\n",
        "It is basically of two types:-\n",
        "\n",
        "*  **User based filtering**-These systems recommend products to a user that similar users have liked. For measuring the similarity between two users we can either use pearson correlation or cosine similarity.\n",
        "\n",
        "* **Item Based Collaborative Filtering**-Instead of measuring the similarity between users, the item-based CF recommends items based on their similarity with the items that the target user rated. Likewise, the similarity can be computed with Pearson Correlation or Cosine Similarity."
      ],
      "metadata": {
        "id": "yKBckr4C_-fI"
      }
    },
    {
      "cell_type": "markdown",
      "source": [
        "### **Single Value Decomposition**\n",
        "One way to handle the scalability and sparsity issue created by CF is to leverage a **latent factor model** to capture the similarity between users and items. Essentially, we want to turn the recommendation problem into an optimization problem. We can view it as how good we are in predicting the rating for items given a user. One common metric is Root Mean Square Error (RMSE). **The lower the RMSE, the better the performance**."
      ],
      "metadata": {
        "id": "oLWgQx5CAwia"
      }
    },
    {
      "cell_type": "code",
      "source": [
        "reader = Reader()\n",
        "ratings = pd.read_csv('/content/ratings_small[1].csv')\n",
        "ratings.head()"
      ],
      "metadata": {
        "colab": {
          "base_uri": "https://localhost:8080/",
          "height": 206
        },
        "id": "-eEe3qem_6gl",
        "outputId": "78d8a19c-1411-4944-8149-d55ddc768785"
      },
      "execution_count": 107,
      "outputs": [
        {
          "output_type": "execute_result",
          "data": {
            "text/plain": [
              "   userId  movieId  rating   timestamp\n",
              "0       1       31     2.5  1260759144\n",
              "1       1     1029     3.0  1260759179\n",
              "2       1     1061     3.0  1260759182\n",
              "3       1     1129     2.0  1260759185\n",
              "4       1     1172     4.0  1260759205"
            ],
            "text/html": [
              "\n",
              "  <div id=\"df-1252d587-a906-4078-ade4-0673ef6cecb4\" class=\"colab-df-container\">\n",
              "    <div>\n",
              "<style scoped>\n",
              "    .dataframe tbody tr th:only-of-type {\n",
              "        vertical-align: middle;\n",
              "    }\n",
              "\n",
              "    .dataframe tbody tr th {\n",
              "        vertical-align: top;\n",
              "    }\n",
              "\n",
              "    .dataframe thead th {\n",
              "        text-align: right;\n",
              "    }\n",
              "</style>\n",
              "<table border=\"1\" class=\"dataframe\">\n",
              "  <thead>\n",
              "    <tr style=\"text-align: right;\">\n",
              "      <th></th>\n",
              "      <th>userId</th>\n",
              "      <th>movieId</th>\n",
              "      <th>rating</th>\n",
              "      <th>timestamp</th>\n",
              "    </tr>\n",
              "  </thead>\n",
              "  <tbody>\n",
              "    <tr>\n",
              "      <th>0</th>\n",
              "      <td>1</td>\n",
              "      <td>31</td>\n",
              "      <td>2.5</td>\n",
              "      <td>1260759144</td>\n",
              "    </tr>\n",
              "    <tr>\n",
              "      <th>1</th>\n",
              "      <td>1</td>\n",
              "      <td>1029</td>\n",
              "      <td>3.0</td>\n",
              "      <td>1260759179</td>\n",
              "    </tr>\n",
              "    <tr>\n",
              "      <th>2</th>\n",
              "      <td>1</td>\n",
              "      <td>1061</td>\n",
              "      <td>3.0</td>\n",
              "      <td>1260759182</td>\n",
              "    </tr>\n",
              "    <tr>\n",
              "      <th>3</th>\n",
              "      <td>1</td>\n",
              "      <td>1129</td>\n",
              "      <td>2.0</td>\n",
              "      <td>1260759185</td>\n",
              "    </tr>\n",
              "    <tr>\n",
              "      <th>4</th>\n",
              "      <td>1</td>\n",
              "      <td>1172</td>\n",
              "      <td>4.0</td>\n",
              "      <td>1260759205</td>\n",
              "    </tr>\n",
              "  </tbody>\n",
              "</table>\n",
              "</div>\n",
              "    <div class=\"colab-df-buttons\">\n",
              "\n",
              "  <div class=\"colab-df-container\">\n",
              "    <button class=\"colab-df-convert\" onclick=\"convertToInteractive('df-1252d587-a906-4078-ade4-0673ef6cecb4')\"\n",
              "            title=\"Convert this dataframe to an interactive table.\"\n",
              "            style=\"display:none;\">\n",
              "\n",
              "  <svg xmlns=\"http://www.w3.org/2000/svg\" height=\"24px\" viewBox=\"0 -960 960 960\">\n",
              "    <path d=\"M120-120v-720h720v720H120Zm60-500h600v-160H180v160Zm220 220h160v-160H400v160Zm0 220h160v-160H400v160ZM180-400h160v-160H180v160Zm440 0h160v-160H620v160ZM180-180h160v-160H180v160Zm440 0h160v-160H620v160Z\"/>\n",
              "  </svg>\n",
              "    </button>\n",
              "\n",
              "  <style>\n",
              "    .colab-df-container {\n",
              "      display:flex;\n",
              "      gap: 12px;\n",
              "    }\n",
              "\n",
              "    .colab-df-convert {\n",
              "      background-color: #E8F0FE;\n",
              "      border: none;\n",
              "      border-radius: 50%;\n",
              "      cursor: pointer;\n",
              "      display: none;\n",
              "      fill: #1967D2;\n",
              "      height: 32px;\n",
              "      padding: 0 0 0 0;\n",
              "      width: 32px;\n",
              "    }\n",
              "\n",
              "    .colab-df-convert:hover {\n",
              "      background-color: #E2EBFA;\n",
              "      box-shadow: 0px 1px 2px rgba(60, 64, 67, 0.3), 0px 1px 3px 1px rgba(60, 64, 67, 0.15);\n",
              "      fill: #174EA6;\n",
              "    }\n",
              "\n",
              "    .colab-df-buttons div {\n",
              "      margin-bottom: 4px;\n",
              "    }\n",
              "\n",
              "    [theme=dark] .colab-df-convert {\n",
              "      background-color: #3B4455;\n",
              "      fill: #D2E3FC;\n",
              "    }\n",
              "\n",
              "    [theme=dark] .colab-df-convert:hover {\n",
              "      background-color: #434B5C;\n",
              "      box-shadow: 0px 1px 3px 1px rgba(0, 0, 0, 0.15);\n",
              "      filter: drop-shadow(0px 1px 2px rgba(0, 0, 0, 0.3));\n",
              "      fill: #FFFFFF;\n",
              "    }\n",
              "  </style>\n",
              "\n",
              "    <script>\n",
              "      const buttonEl =\n",
              "        document.querySelector('#df-1252d587-a906-4078-ade4-0673ef6cecb4 button.colab-df-convert');\n",
              "      buttonEl.style.display =\n",
              "        google.colab.kernel.accessAllowed ? 'block' : 'none';\n",
              "\n",
              "      async function convertToInteractive(key) {\n",
              "        const element = document.querySelector('#df-1252d587-a906-4078-ade4-0673ef6cecb4');\n",
              "        const dataTable =\n",
              "          await google.colab.kernel.invokeFunction('convertToInteractive',\n",
              "                                                    [key], {});\n",
              "        if (!dataTable) return;\n",
              "\n",
              "        const docLinkHtml = 'Like what you see? Visit the ' +\n",
              "          '<a target=\"_blank\" href=https://colab.research.google.com/notebooks/data_table.ipynb>data table notebook</a>'\n",
              "          + ' to learn more about interactive tables.';\n",
              "        element.innerHTML = '';\n",
              "        dataTable['output_type'] = 'display_data';\n",
              "        await google.colab.output.renderOutput(dataTable, element);\n",
              "        const docLink = document.createElement('div');\n",
              "        docLink.innerHTML = docLinkHtml;\n",
              "        element.appendChild(docLink);\n",
              "      }\n",
              "    </script>\n",
              "  </div>\n",
              "\n",
              "\n",
              "<div id=\"df-f41c8498-c739-4208-9ec2-06245065384d\">\n",
              "  <button class=\"colab-df-quickchart\" onclick=\"quickchart('df-f41c8498-c739-4208-9ec2-06245065384d')\"\n",
              "            title=\"Suggest charts\"\n",
              "            style=\"display:none;\">\n",
              "\n",
              "<svg xmlns=\"http://www.w3.org/2000/svg\" height=\"24px\"viewBox=\"0 0 24 24\"\n",
              "     width=\"24px\">\n",
              "    <g>\n",
              "        <path d=\"M19 3H5c-1.1 0-2 .9-2 2v14c0 1.1.9 2 2 2h14c1.1 0 2-.9 2-2V5c0-1.1-.9-2-2-2zM9 17H7v-7h2v7zm4 0h-2V7h2v10zm4 0h-2v-4h2v4z\"/>\n",
              "    </g>\n",
              "</svg>\n",
              "  </button>\n",
              "\n",
              "<style>\n",
              "  .colab-df-quickchart {\n",
              "      --bg-color: #E8F0FE;\n",
              "      --fill-color: #1967D2;\n",
              "      --hover-bg-color: #E2EBFA;\n",
              "      --hover-fill-color: #174EA6;\n",
              "      --disabled-fill-color: #AAA;\n",
              "      --disabled-bg-color: #DDD;\n",
              "  }\n",
              "\n",
              "  [theme=dark] .colab-df-quickchart {\n",
              "      --bg-color: #3B4455;\n",
              "      --fill-color: #D2E3FC;\n",
              "      --hover-bg-color: #434B5C;\n",
              "      --hover-fill-color: #FFFFFF;\n",
              "      --disabled-bg-color: #3B4455;\n",
              "      --disabled-fill-color: #666;\n",
              "  }\n",
              "\n",
              "  .colab-df-quickchart {\n",
              "    background-color: var(--bg-color);\n",
              "    border: none;\n",
              "    border-radius: 50%;\n",
              "    cursor: pointer;\n",
              "    display: none;\n",
              "    fill: var(--fill-color);\n",
              "    height: 32px;\n",
              "    padding: 0;\n",
              "    width: 32px;\n",
              "  }\n",
              "\n",
              "  .colab-df-quickchart:hover {\n",
              "    background-color: var(--hover-bg-color);\n",
              "    box-shadow: 0 1px 2px rgba(60, 64, 67, 0.3), 0 1px 3px 1px rgba(60, 64, 67, 0.15);\n",
              "    fill: var(--button-hover-fill-color);\n",
              "  }\n",
              "\n",
              "  .colab-df-quickchart-complete:disabled,\n",
              "  .colab-df-quickchart-complete:disabled:hover {\n",
              "    background-color: var(--disabled-bg-color);\n",
              "    fill: var(--disabled-fill-color);\n",
              "    box-shadow: none;\n",
              "  }\n",
              "\n",
              "  .colab-df-spinner {\n",
              "    border: 2px solid var(--fill-color);\n",
              "    border-color: transparent;\n",
              "    border-bottom-color: var(--fill-color);\n",
              "    animation:\n",
              "      spin 1s steps(1) infinite;\n",
              "  }\n",
              "\n",
              "  @keyframes spin {\n",
              "    0% {\n",
              "      border-color: transparent;\n",
              "      border-bottom-color: var(--fill-color);\n",
              "      border-left-color: var(--fill-color);\n",
              "    }\n",
              "    20% {\n",
              "      border-color: transparent;\n",
              "      border-left-color: var(--fill-color);\n",
              "      border-top-color: var(--fill-color);\n",
              "    }\n",
              "    30% {\n",
              "      border-color: transparent;\n",
              "      border-left-color: var(--fill-color);\n",
              "      border-top-color: var(--fill-color);\n",
              "      border-right-color: var(--fill-color);\n",
              "    }\n",
              "    40% {\n",
              "      border-color: transparent;\n",
              "      border-right-color: var(--fill-color);\n",
              "      border-top-color: var(--fill-color);\n",
              "    }\n",
              "    60% {\n",
              "      border-color: transparent;\n",
              "      border-right-color: var(--fill-color);\n",
              "    }\n",
              "    80% {\n",
              "      border-color: transparent;\n",
              "      border-right-color: var(--fill-color);\n",
              "      border-bottom-color: var(--fill-color);\n",
              "    }\n",
              "    90% {\n",
              "      border-color: transparent;\n",
              "      border-bottom-color: var(--fill-color);\n",
              "    }\n",
              "  }\n",
              "</style>\n",
              "\n",
              "  <script>\n",
              "    async function quickchart(key) {\n",
              "      const quickchartButtonEl =\n",
              "        document.querySelector('#' + key + ' button');\n",
              "      quickchartButtonEl.disabled = true;  // To prevent multiple clicks.\n",
              "      quickchartButtonEl.classList.add('colab-df-spinner');\n",
              "      try {\n",
              "        const charts = await google.colab.kernel.invokeFunction(\n",
              "            'suggestCharts', [key], {});\n",
              "      } catch (error) {\n",
              "        console.error('Error during call to suggestCharts:', error);\n",
              "      }\n",
              "      quickchartButtonEl.classList.remove('colab-df-spinner');\n",
              "      quickchartButtonEl.classList.add('colab-df-quickchart-complete');\n",
              "    }\n",
              "    (() => {\n",
              "      let quickchartButtonEl =\n",
              "        document.querySelector('#df-f41c8498-c739-4208-9ec2-06245065384d button');\n",
              "      quickchartButtonEl.style.display =\n",
              "        google.colab.kernel.accessAllowed ? 'block' : 'none';\n",
              "    })();\n",
              "  </script>\n",
              "</div>\n",
              "\n",
              "    </div>\n",
              "  </div>\n"
            ]
          },
          "metadata": {},
          "execution_count": 107
        }
      ]
    },
    {
      "cell_type": "markdown",
      "source": [
        "Take note that, in contrast to the previous dataset, films are graded on a 5-point scale in this one.\n"
      ],
      "metadata": {
        "id": "spSoZ_EPBKVA"
      }
    },
    {
      "cell_type": "code",
      "source": [
        "reader = Reader()\n",
        "data = Dataset.load_from_df(ratings[['userId', 'movieId', 'rating']], reader)\n",
        "\n",
        "# Build the full training set\n",
        "trainset = data.build_full_trainset()"
      ],
      "metadata": {
        "id": "-eEyMJ_r_6i6"
      },
      "execution_count": 110,
      "outputs": []
    },
    {
      "cell_type": "code",
      "source": [
        "svd = SVD()\n",
        "# Cross-validate the SVD model\n",
        "results = cross_validate(svd, data, measures=['RMSE', 'MAE'], cv=5, verbose=True)\n",
        "\n",
        "print(\"Mean RMSE:\", results['test_rmse'].mean())\n",
        "print(\"Mean MAE:\", results['test_mae'].mean())"
      ],
      "metadata": {
        "colab": {
          "base_uri": "https://localhost:8080/"
        },
        "id": "AwFOLiv0_6lF",
        "outputId": "d9b8a0b7-2190-4f6e-b3da-80263b4ec184"
      },
      "execution_count": 113,
      "outputs": [
        {
          "output_type": "stream",
          "name": "stdout",
          "text": [
            "Evaluating RMSE, MAE of algorithm SVD on 5 split(s).\n",
            "\n",
            "                  Fold 1  Fold 2  Fold 3  Fold 4  Fold 5  Mean    Std     \n",
            "RMSE (testset)    0.8974  0.9032  0.8924  0.8990  0.8905  0.8965  0.0046  \n",
            "MAE (testset)     0.6912  0.6950  0.6882  0.6939  0.6856  0.6908  0.0035  \n",
            "Fit time          1.55    1.59    2.36    1.74    1.59    1.77    0.31    \n",
            "Test time         0.27    0.12    0.39    0.12    0.12    0.20    0.11    \n",
            "Mean RMSE: 0.8965126404454196\n",
            "Mean MAE: 0.6907634747598378\n"
          ]
        }
      ]
    },
    {
      "cell_type": "markdown",
      "source": [
        "For our situation, the mean Root Mean Square Error of 0.89 approx. is more than sufficient. Now let's use our dataset to train and make predictions.\n"
      ],
      "metadata": {
        "id": "exjS7djlBvmt"
      }
    },
    {
      "cell_type": "code",
      "source": [
        "# Load the full dataset and build the trainset\n",
        "trainset = data.build_full_trainset()\n",
        "\n",
        "# Fit the SVD model on the entire trainset\n",
        "svd.fit(trainset)"
      ],
      "metadata": {
        "colab": {
          "base_uri": "https://localhost:8080/"
        },
        "id": "UukE6cFJ_6nD",
        "outputId": "5d73439c-e88d-4d4e-9766-ea1144f92d2f"
      },
      "execution_count": 115,
      "outputs": [
        {
          "output_type": "execute_result",
          "data": {
            "text/plain": [
              "<surprise.prediction_algorithms.matrix_factorization.SVD at 0x7dc2e74f46d0>"
            ]
          },
          "metadata": {},
          "execution_count": 115
        }
      ]
    },
    {
      "cell_type": "markdown",
      "source": [
        "Let's select the user with user ID 1 and review the ratings that person has provided.\n"
      ],
      "metadata": {
        "id": "kPE5YsZrCFCw"
      }
    },
    {
      "cell_type": "code",
      "source": [
        "# Filter ratings for a specific user (e.g., userId == 1)\n",
        "user_ratings = ratings[ratings['userId'] == 1]\n",
        "print(user_ratings)"
      ],
      "metadata": {
        "colab": {
          "base_uri": "https://localhost:8080/"
        },
        "id": "qOOBqyMWB33w",
        "outputId": "3ac510fb-7d27-4bd4-84e4-df1e8e1244bc"
      },
      "execution_count": 117,
      "outputs": [
        {
          "output_type": "stream",
          "name": "stdout",
          "text": [
            "    userId  movieId  rating   timestamp\n",
            "0        1       31     2.5  1260759144\n",
            "1        1     1029     3.0  1260759179\n",
            "2        1     1061     3.0  1260759182\n",
            "3        1     1129     2.0  1260759185\n",
            "4        1     1172     4.0  1260759205\n",
            "5        1     1263     2.0  1260759151\n",
            "6        1     1287     2.0  1260759187\n",
            "7        1     1293     2.0  1260759148\n",
            "8        1     1339     3.5  1260759125\n",
            "9        1     1343     2.0  1260759131\n",
            "10       1     1371     2.5  1260759135\n",
            "11       1     1405     1.0  1260759203\n",
            "12       1     1953     4.0  1260759191\n",
            "13       1     2105     4.0  1260759139\n",
            "14       1     2150     3.0  1260759194\n",
            "15       1     2193     2.0  1260759198\n",
            "16       1     2294     2.0  1260759108\n",
            "17       1     2455     2.5  1260759113\n",
            "18       1     2968     1.0  1260759200\n",
            "19       1     3671     3.0  1260759117\n"
          ]
        }
      ]
    },
    {
      "cell_type": "code",
      "source": [
        "#Now for user Id == 25\n",
        "ratings[ratings['userId'] == 25]"
      ],
      "metadata": {
        "colab": {
          "base_uri": "https://localhost:8080/",
          "height": 864
        },
        "id": "ob9pdD_MB36B",
        "outputId": "fc66ae3a-b55c-492e-f054-0f868c11f418"
      },
      "execution_count": 120,
      "outputs": [
        {
          "output_type": "execute_result",
          "data": {
            "text/plain": [
              "      userId  movieId  rating  timestamp\n",
              "4755      25        3     3.0  859625254\n",
              "4756      25       32     4.0  859625180\n",
              "4757      25       78     3.0  859625874\n",
              "4758      25      104     4.0  859625336\n",
              "4759      25      260     4.0  859625336\n",
              "4760      25      494     3.0  859625254\n",
              "4761      25      608     3.0  859625254\n",
              "4762      25      653     2.0  859625336\n",
              "4763      25      663     2.0  859625772\n",
              "4764      25      707     3.0  859625553\n",
              "4765      25      778     4.0  859625495\n",
              "4766      25      780     4.0  859625180\n",
              "4767      25      784     3.0  859625336\n",
              "4768      25      786     3.0  859625254\n",
              "4769      25      788     2.0  859625336\n",
              "4770      25      802     5.0  859625442\n",
              "4771      25      832     3.0  859625495\n",
              "4772      25      842     2.0  859625824\n",
              "4773      25     1073     5.0  859625254\n",
              "4774      25     1354     1.0  859625931\n",
              "4775      25     1356     3.0  859625442\n",
              "4776      25     1358     5.0  859625974\n",
              "4777      25     1391     2.0  859625669\n",
              "4778      25     1405     3.0  859625669\n",
              "4779      25     1409     2.0  859625845\n",
              "4780      25     1483     3.0  859626258"
            ],
            "text/html": [
              "\n",
              "  <div id=\"df-b0f10ad3-4a58-46e6-887e-d4e55f51a73e\" class=\"colab-df-container\">\n",
              "    <div>\n",
              "<style scoped>\n",
              "    .dataframe tbody tr th:only-of-type {\n",
              "        vertical-align: middle;\n",
              "    }\n",
              "\n",
              "    .dataframe tbody tr th {\n",
              "        vertical-align: top;\n",
              "    }\n",
              "\n",
              "    .dataframe thead th {\n",
              "        text-align: right;\n",
              "    }\n",
              "</style>\n",
              "<table border=\"1\" class=\"dataframe\">\n",
              "  <thead>\n",
              "    <tr style=\"text-align: right;\">\n",
              "      <th></th>\n",
              "      <th>userId</th>\n",
              "      <th>movieId</th>\n",
              "      <th>rating</th>\n",
              "      <th>timestamp</th>\n",
              "    </tr>\n",
              "  </thead>\n",
              "  <tbody>\n",
              "    <tr>\n",
              "      <th>4755</th>\n",
              "      <td>25</td>\n",
              "      <td>3</td>\n",
              "      <td>3.0</td>\n",
              "      <td>859625254</td>\n",
              "    </tr>\n",
              "    <tr>\n",
              "      <th>4756</th>\n",
              "      <td>25</td>\n",
              "      <td>32</td>\n",
              "      <td>4.0</td>\n",
              "      <td>859625180</td>\n",
              "    </tr>\n",
              "    <tr>\n",
              "      <th>4757</th>\n",
              "      <td>25</td>\n",
              "      <td>78</td>\n",
              "      <td>3.0</td>\n",
              "      <td>859625874</td>\n",
              "    </tr>\n",
              "    <tr>\n",
              "      <th>4758</th>\n",
              "      <td>25</td>\n",
              "      <td>104</td>\n",
              "      <td>4.0</td>\n",
              "      <td>859625336</td>\n",
              "    </tr>\n",
              "    <tr>\n",
              "      <th>4759</th>\n",
              "      <td>25</td>\n",
              "      <td>260</td>\n",
              "      <td>4.0</td>\n",
              "      <td>859625336</td>\n",
              "    </tr>\n",
              "    <tr>\n",
              "      <th>4760</th>\n",
              "      <td>25</td>\n",
              "      <td>494</td>\n",
              "      <td>3.0</td>\n",
              "      <td>859625254</td>\n",
              "    </tr>\n",
              "    <tr>\n",
              "      <th>4761</th>\n",
              "      <td>25</td>\n",
              "      <td>608</td>\n",
              "      <td>3.0</td>\n",
              "      <td>859625254</td>\n",
              "    </tr>\n",
              "    <tr>\n",
              "      <th>4762</th>\n",
              "      <td>25</td>\n",
              "      <td>653</td>\n",
              "      <td>2.0</td>\n",
              "      <td>859625336</td>\n",
              "    </tr>\n",
              "    <tr>\n",
              "      <th>4763</th>\n",
              "      <td>25</td>\n",
              "      <td>663</td>\n",
              "      <td>2.0</td>\n",
              "      <td>859625772</td>\n",
              "    </tr>\n",
              "    <tr>\n",
              "      <th>4764</th>\n",
              "      <td>25</td>\n",
              "      <td>707</td>\n",
              "      <td>3.0</td>\n",
              "      <td>859625553</td>\n",
              "    </tr>\n",
              "    <tr>\n",
              "      <th>4765</th>\n",
              "      <td>25</td>\n",
              "      <td>778</td>\n",
              "      <td>4.0</td>\n",
              "      <td>859625495</td>\n",
              "    </tr>\n",
              "    <tr>\n",
              "      <th>4766</th>\n",
              "      <td>25</td>\n",
              "      <td>780</td>\n",
              "      <td>4.0</td>\n",
              "      <td>859625180</td>\n",
              "    </tr>\n",
              "    <tr>\n",
              "      <th>4767</th>\n",
              "      <td>25</td>\n",
              "      <td>784</td>\n",
              "      <td>3.0</td>\n",
              "      <td>859625336</td>\n",
              "    </tr>\n",
              "    <tr>\n",
              "      <th>4768</th>\n",
              "      <td>25</td>\n",
              "      <td>786</td>\n",
              "      <td>3.0</td>\n",
              "      <td>859625254</td>\n",
              "    </tr>\n",
              "    <tr>\n",
              "      <th>4769</th>\n",
              "      <td>25</td>\n",
              "      <td>788</td>\n",
              "      <td>2.0</td>\n",
              "      <td>859625336</td>\n",
              "    </tr>\n",
              "    <tr>\n",
              "      <th>4770</th>\n",
              "      <td>25</td>\n",
              "      <td>802</td>\n",
              "      <td>5.0</td>\n",
              "      <td>859625442</td>\n",
              "    </tr>\n",
              "    <tr>\n",
              "      <th>4771</th>\n",
              "      <td>25</td>\n",
              "      <td>832</td>\n",
              "      <td>3.0</td>\n",
              "      <td>859625495</td>\n",
              "    </tr>\n",
              "    <tr>\n",
              "      <th>4772</th>\n",
              "      <td>25</td>\n",
              "      <td>842</td>\n",
              "      <td>2.0</td>\n",
              "      <td>859625824</td>\n",
              "    </tr>\n",
              "    <tr>\n",
              "      <th>4773</th>\n",
              "      <td>25</td>\n",
              "      <td>1073</td>\n",
              "      <td>5.0</td>\n",
              "      <td>859625254</td>\n",
              "    </tr>\n",
              "    <tr>\n",
              "      <th>4774</th>\n",
              "      <td>25</td>\n",
              "      <td>1354</td>\n",
              "      <td>1.0</td>\n",
              "      <td>859625931</td>\n",
              "    </tr>\n",
              "    <tr>\n",
              "      <th>4775</th>\n",
              "      <td>25</td>\n",
              "      <td>1356</td>\n",
              "      <td>3.0</td>\n",
              "      <td>859625442</td>\n",
              "    </tr>\n",
              "    <tr>\n",
              "      <th>4776</th>\n",
              "      <td>25</td>\n",
              "      <td>1358</td>\n",
              "      <td>5.0</td>\n",
              "      <td>859625974</td>\n",
              "    </tr>\n",
              "    <tr>\n",
              "      <th>4777</th>\n",
              "      <td>25</td>\n",
              "      <td>1391</td>\n",
              "      <td>2.0</td>\n",
              "      <td>859625669</td>\n",
              "    </tr>\n",
              "    <tr>\n",
              "      <th>4778</th>\n",
              "      <td>25</td>\n",
              "      <td>1405</td>\n",
              "      <td>3.0</td>\n",
              "      <td>859625669</td>\n",
              "    </tr>\n",
              "    <tr>\n",
              "      <th>4779</th>\n",
              "      <td>25</td>\n",
              "      <td>1409</td>\n",
              "      <td>2.0</td>\n",
              "      <td>859625845</td>\n",
              "    </tr>\n",
              "    <tr>\n",
              "      <th>4780</th>\n",
              "      <td>25</td>\n",
              "      <td>1483</td>\n",
              "      <td>3.0</td>\n",
              "      <td>859626258</td>\n",
              "    </tr>\n",
              "  </tbody>\n",
              "</table>\n",
              "</div>\n",
              "    <div class=\"colab-df-buttons\">\n",
              "\n",
              "  <div class=\"colab-df-container\">\n",
              "    <button class=\"colab-df-convert\" onclick=\"convertToInteractive('df-b0f10ad3-4a58-46e6-887e-d4e55f51a73e')\"\n",
              "            title=\"Convert this dataframe to an interactive table.\"\n",
              "            style=\"display:none;\">\n",
              "\n",
              "  <svg xmlns=\"http://www.w3.org/2000/svg\" height=\"24px\" viewBox=\"0 -960 960 960\">\n",
              "    <path d=\"M120-120v-720h720v720H120Zm60-500h600v-160H180v160Zm220 220h160v-160H400v160Zm0 220h160v-160H400v160ZM180-400h160v-160H180v160Zm440 0h160v-160H620v160ZM180-180h160v-160H180v160Zm440 0h160v-160H620v160Z\"/>\n",
              "  </svg>\n",
              "    </button>\n",
              "\n",
              "  <style>\n",
              "    .colab-df-container {\n",
              "      display:flex;\n",
              "      gap: 12px;\n",
              "    }\n",
              "\n",
              "    .colab-df-convert {\n",
              "      background-color: #E8F0FE;\n",
              "      border: none;\n",
              "      border-radius: 50%;\n",
              "      cursor: pointer;\n",
              "      display: none;\n",
              "      fill: #1967D2;\n",
              "      height: 32px;\n",
              "      padding: 0 0 0 0;\n",
              "      width: 32px;\n",
              "    }\n",
              "\n",
              "    .colab-df-convert:hover {\n",
              "      background-color: #E2EBFA;\n",
              "      box-shadow: 0px 1px 2px rgba(60, 64, 67, 0.3), 0px 1px 3px 1px rgba(60, 64, 67, 0.15);\n",
              "      fill: #174EA6;\n",
              "    }\n",
              "\n",
              "    .colab-df-buttons div {\n",
              "      margin-bottom: 4px;\n",
              "    }\n",
              "\n",
              "    [theme=dark] .colab-df-convert {\n",
              "      background-color: #3B4455;\n",
              "      fill: #D2E3FC;\n",
              "    }\n",
              "\n",
              "    [theme=dark] .colab-df-convert:hover {\n",
              "      background-color: #434B5C;\n",
              "      box-shadow: 0px 1px 3px 1px rgba(0, 0, 0, 0.15);\n",
              "      filter: drop-shadow(0px 1px 2px rgba(0, 0, 0, 0.3));\n",
              "      fill: #FFFFFF;\n",
              "    }\n",
              "  </style>\n",
              "\n",
              "    <script>\n",
              "      const buttonEl =\n",
              "        document.querySelector('#df-b0f10ad3-4a58-46e6-887e-d4e55f51a73e button.colab-df-convert');\n",
              "      buttonEl.style.display =\n",
              "        google.colab.kernel.accessAllowed ? 'block' : 'none';\n",
              "\n",
              "      async function convertToInteractive(key) {\n",
              "        const element = document.querySelector('#df-b0f10ad3-4a58-46e6-887e-d4e55f51a73e');\n",
              "        const dataTable =\n",
              "          await google.colab.kernel.invokeFunction('convertToInteractive',\n",
              "                                                    [key], {});\n",
              "        if (!dataTable) return;\n",
              "\n",
              "        const docLinkHtml = 'Like what you see? Visit the ' +\n",
              "          '<a target=\"_blank\" href=https://colab.research.google.com/notebooks/data_table.ipynb>data table notebook</a>'\n",
              "          + ' to learn more about interactive tables.';\n",
              "        element.innerHTML = '';\n",
              "        dataTable['output_type'] = 'display_data';\n",
              "        await google.colab.output.renderOutput(dataTable, element);\n",
              "        const docLink = document.createElement('div');\n",
              "        docLink.innerHTML = docLinkHtml;\n",
              "        element.appendChild(docLink);\n",
              "      }\n",
              "    </script>\n",
              "  </div>\n",
              "\n",
              "\n",
              "<div id=\"df-56bb311e-6f0b-4e4e-be0e-498bff31b3be\">\n",
              "  <button class=\"colab-df-quickchart\" onclick=\"quickchart('df-56bb311e-6f0b-4e4e-be0e-498bff31b3be')\"\n",
              "            title=\"Suggest charts\"\n",
              "            style=\"display:none;\">\n",
              "\n",
              "<svg xmlns=\"http://www.w3.org/2000/svg\" height=\"24px\"viewBox=\"0 0 24 24\"\n",
              "     width=\"24px\">\n",
              "    <g>\n",
              "        <path d=\"M19 3H5c-1.1 0-2 .9-2 2v14c0 1.1.9 2 2 2h14c1.1 0 2-.9 2-2V5c0-1.1-.9-2-2-2zM9 17H7v-7h2v7zm4 0h-2V7h2v10zm4 0h-2v-4h2v4z\"/>\n",
              "    </g>\n",
              "</svg>\n",
              "  </button>\n",
              "\n",
              "<style>\n",
              "  .colab-df-quickchart {\n",
              "      --bg-color: #E8F0FE;\n",
              "      --fill-color: #1967D2;\n",
              "      --hover-bg-color: #E2EBFA;\n",
              "      --hover-fill-color: #174EA6;\n",
              "      --disabled-fill-color: #AAA;\n",
              "      --disabled-bg-color: #DDD;\n",
              "  }\n",
              "\n",
              "  [theme=dark] .colab-df-quickchart {\n",
              "      --bg-color: #3B4455;\n",
              "      --fill-color: #D2E3FC;\n",
              "      --hover-bg-color: #434B5C;\n",
              "      --hover-fill-color: #FFFFFF;\n",
              "      --disabled-bg-color: #3B4455;\n",
              "      --disabled-fill-color: #666;\n",
              "  }\n",
              "\n",
              "  .colab-df-quickchart {\n",
              "    background-color: var(--bg-color);\n",
              "    border: none;\n",
              "    border-radius: 50%;\n",
              "    cursor: pointer;\n",
              "    display: none;\n",
              "    fill: var(--fill-color);\n",
              "    height: 32px;\n",
              "    padding: 0;\n",
              "    width: 32px;\n",
              "  }\n",
              "\n",
              "  .colab-df-quickchart:hover {\n",
              "    background-color: var(--hover-bg-color);\n",
              "    box-shadow: 0 1px 2px rgba(60, 64, 67, 0.3), 0 1px 3px 1px rgba(60, 64, 67, 0.15);\n",
              "    fill: var(--button-hover-fill-color);\n",
              "  }\n",
              "\n",
              "  .colab-df-quickchart-complete:disabled,\n",
              "  .colab-df-quickchart-complete:disabled:hover {\n",
              "    background-color: var(--disabled-bg-color);\n",
              "    fill: var(--disabled-fill-color);\n",
              "    box-shadow: none;\n",
              "  }\n",
              "\n",
              "  .colab-df-spinner {\n",
              "    border: 2px solid var(--fill-color);\n",
              "    border-color: transparent;\n",
              "    border-bottom-color: var(--fill-color);\n",
              "    animation:\n",
              "      spin 1s steps(1) infinite;\n",
              "  }\n",
              "\n",
              "  @keyframes spin {\n",
              "    0% {\n",
              "      border-color: transparent;\n",
              "      border-bottom-color: var(--fill-color);\n",
              "      border-left-color: var(--fill-color);\n",
              "    }\n",
              "    20% {\n",
              "      border-color: transparent;\n",
              "      border-left-color: var(--fill-color);\n",
              "      border-top-color: var(--fill-color);\n",
              "    }\n",
              "    30% {\n",
              "      border-color: transparent;\n",
              "      border-left-color: var(--fill-color);\n",
              "      border-top-color: var(--fill-color);\n",
              "      border-right-color: var(--fill-color);\n",
              "    }\n",
              "    40% {\n",
              "      border-color: transparent;\n",
              "      border-right-color: var(--fill-color);\n",
              "      border-top-color: var(--fill-color);\n",
              "    }\n",
              "    60% {\n",
              "      border-color: transparent;\n",
              "      border-right-color: var(--fill-color);\n",
              "    }\n",
              "    80% {\n",
              "      border-color: transparent;\n",
              "      border-right-color: var(--fill-color);\n",
              "      border-bottom-color: var(--fill-color);\n",
              "    }\n",
              "    90% {\n",
              "      border-color: transparent;\n",
              "      border-bottom-color: var(--fill-color);\n",
              "    }\n",
              "  }\n",
              "</style>\n",
              "\n",
              "  <script>\n",
              "    async function quickchart(key) {\n",
              "      const quickchartButtonEl =\n",
              "        document.querySelector('#' + key + ' button');\n",
              "      quickchartButtonEl.disabled = true;  // To prevent multiple clicks.\n",
              "      quickchartButtonEl.classList.add('colab-df-spinner');\n",
              "      try {\n",
              "        const charts = await google.colab.kernel.invokeFunction(\n",
              "            'suggestCharts', [key], {});\n",
              "      } catch (error) {\n",
              "        console.error('Error during call to suggestCharts:', error);\n",
              "      }\n",
              "      quickchartButtonEl.classList.remove('colab-df-spinner');\n",
              "      quickchartButtonEl.classList.add('colab-df-quickchart-complete');\n",
              "    }\n",
              "    (() => {\n",
              "      let quickchartButtonEl =\n",
              "        document.querySelector('#df-56bb311e-6f0b-4e4e-be0e-498bff31b3be button');\n",
              "      quickchartButtonEl.style.display =\n",
              "        google.colab.kernel.accessAllowed ? 'block' : 'none';\n",
              "    })();\n",
              "  </script>\n",
              "</div>\n",
              "\n",
              "    </div>\n",
              "  </div>\n"
            ]
          },
          "metadata": {},
          "execution_count": 120
        }
      ]
    },
    {
      "cell_type": "code",
      "source": [
        "# Predict the rating for user 1, movie 302\n",
        "predicted_rating = svd.predict(1, 302, 3)\n",
        "print(predicted_rating)"
      ],
      "metadata": {
        "colab": {
          "base_uri": "https://localhost:8080/"
        },
        "id": "cbB0Goa3Cbwc",
        "outputId": "ff089686-fad5-4aa8-ecef-723f037686dd"
      },
      "execution_count": 122,
      "outputs": [
        {
          "output_type": "stream",
          "name": "stdout",
          "text": [
            "user: 1          item: 302        r_ui = 3.00   est = 2.58   {'was_impossible': False}\n"
          ]
        }
      ]
    },
    {
      "cell_type": "markdown",
      "source": [
        "We obtain an estimated forecast of **2.58** for the movie with ID 302.\n",
        "\n",
        "This recommender system's shocking characteristic is that it doesn't give a damn about the type of movie or what it contains.\n",
        "\n",
        "It attempts to forecast ratings based on how other users have rated the movie and operates only on the basis of an allocated movie ID.\n"
      ],
      "metadata": {
        "id": "nqLyac2CDCe_"
      }
    },
    {
      "cell_type": "markdown",
      "source": [
        "## **Conclusion**\n",
        "\n",
        "Using collaborative, content-based, and demographic filtering, we generate recommenders. Although demographic filtering is extremely specific and impractical, content-based and collaborative filtering are useful for **Hybrid Systems** since they have been shown to work well together.\n",
        "\n",
        "This approach simply offers a basic framework to get started and was rather basic.\n"
      ],
      "metadata": {
        "id": "75rBWSMLDnIf"
      }
    }
  ]
}